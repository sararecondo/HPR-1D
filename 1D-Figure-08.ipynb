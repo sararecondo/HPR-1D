{
 "cells": [
  {
   "cell_type": "markdown",
   "metadata": {},
   "source": [
    "Bilayer higher domain. All PML profiles. Eigv plot"
   ]
  },
  {
   "cell_type": "code",
   "execution_count": 1,
   "metadata": {},
   "outputs": [
    {
     "name": "stderr",
     "output_type": "stream",
     "text": [
      "/home/srecondo/miniconda3/envs/cleaned-fenicsx/lib/python3.10/site-packages/numpy/_core/getlimits.py:551: UserWarning: Signature b'\\x00\\xd0\\xcc\\xcc\\xcc\\xcc\\xcc\\xcc\\xfb\\xbf\\x00\\x00\\x00\\x00\\x00\\x00' for <class 'numpy.longdouble'> does not match any known type: falling back to type probe function.\n",
      "This warnings indicates broken support for the dtype!\n",
      "  machar = _get_machar(dtype)\n"
     ]
    }
   ],
   "source": [
    "# Importing libraries\n",
    "import matplotlib.pyplot as plt\n",
    "import numpy as np\n",
    "from mpi4py import MPI\n",
    "from ufl import (\n",
    "    inner,\n",
    "    grad,\n",
    "    conj,\n",
    "    TrialFunction,\n",
    "    TestFunction,\n",
    "    as_matrix,\n",
    "    as_vector,\n",
    "    dot,\n",
    "    Or,\n",
    "    Measure,\n",
    "    conditional,\n",
    "    SpatialCoordinate,\n",
    ")\n",
    "from dolfinx.mesh import locate_entities_boundary, create_interval, locate_entities, create_submesh\n",
    "from dolfinx.fem import FunctionSpace, Function, functionspace, Function, dirichletbc, locate_dofs_topological, petsc, form, assemble_matrix\n",
    "import basix\n",
    "from petsc4py.PETSc import ScalarType\n",
    "from slepc4py.SLEPc import EPS  \n",
    "colors_list = [\"blue\", \"green\", \"red\", \"magenta\", \"black\", \"purple\", \"orange\", \"brown\", \"pink\"]\n"
   ]
  },
  {
   "cell_type": "code",
   "execution_count": 2,
   "metadata": {},
   "outputs": [],
   "source": [
    "import dolfinx"
   ]
  },
  {
   "cell_type": "code",
   "execution_count": 3,
   "metadata": {},
   "outputs": [
    {
     "data": {
      "text/plain": [
       "'0.9.0'"
      ]
     },
     "execution_count": 3,
     "metadata": {},
     "output_type": "execute_result"
    }
   ],
   "source": [
    "dolfinx.__version__"
   ]
  },
  {
   "cell_type": "markdown",
   "metadata": {},
   "source": [
    "Domain, PML, refinement and physical configurations"
   ]
  },
  {
   "cell_type": "code",
   "execution_count": 4,
   "metadata": {},
   "outputs": [],
   "source": [
    "# Define element size for the mesh refinement\n",
    "h_i = 0.125\n",
    "\n",
    "# Domain configuration\n",
    "Lx = 100 # fluid domain length (without PML)\n",
    "l_inner=Lx/2 # interface position\n",
    "\n",
    "# Physical configuration\n",
    "rho_media_1 = 1020 # kg/m^3 about 1020 to 1029 is a normal rho for surface seawater\n",
    "vel_media_1 = 1000   # m/s\n",
    "rho_media_2 = 1020  # kg/m^3 about 1020 to 1029 is a normal rho for surface seawater\n",
    "vel_media_2 = 1500  # m/s  \n",
    "\n",
    "# Define the density and velocity functions  \n",
    "def rho_function(x):    \n",
    "    return np.where(x[0] > l_inner, rho_media_2,rho_media_1)\n",
    "\n",
    "def vel_function(x):    \n",
    "    return np.where(x[0] > l_inner, vel_media_2,vel_media_1)\n",
    "\n",
    "# PML configuration\n",
    "pml_thickness = Lx/4\n",
    "sigma_0 = (vel_media_1+vel_media_2)/2    #100/Lx\n",
    "pml_type = [\"piecewise-constant\", \"quadratic\", \"singular\"]\n",
    "\n",
    "# Solver configuration\n",
    "\n",
    "requested_eigenvalues_number = 50 # Number of eigenvalues to compute"
   ]
  },
  {
   "cell_type": "markdown",
   "metadata": {},
   "source": [
    "Solver configuration and computing"
   ]
  },
  {
   "cell_type": "code",
   "execution_count": 5,
   "metadata": {},
   "outputs": [],
   "source": [
    "# Initialize dictionaries\n",
    "dof = {}\n",
    "solver_dict={}\n",
    "V_dict={}\n",
    "Q_dict={}\n",
    "\n",
    "\n",
    "# Create mesh depending on h\n",
    "mesh = create_interval(MPI.COMM_WORLD, int((Lx + pml_thickness )/ h_i), [0, Lx + pml_thickness])\n",
    "\n",
    "# Define finite element spaces\n",
    "p_fe_type = basix.ufl.element(family=\"Lagrange\", cell=mesh.basix_cell(), degree=1)\n",
    "v_fe_type = basix.ufl.element(family=\"DG\", cell=mesh.basix_cell(), degree=0, shape=(mesh.geometry.dim,))\n",
    "FE = {\"p\": p_fe_type, \"v\": v_fe_type}\n",
    "\n",
    "# Create function spaces for mesh and submesh\n",
    "Q = functionspace(mesh,FE[\"p\"])\n",
    "V = functionspace(mesh, FE[\"v\"])\n",
    "\n",
    "# Dictionaries to store the number of dofs\n",
    "dof[\"p\"] = Q.dofmap.index_map.size_global\n",
    "dof[\"v\"] = V.dofmap.index_map.size_global\n",
    "\n",
    "\n",
    "# Boundary conditions application (for pressure)\n",
    "bc = []\n",
    "facets = locate_entities_boundary(mesh, 0, lambda x: np.isclose(x[0], 0.0))\n",
    "o_boundary_dofs = locate_dofs_topological(Q, 0, facets)  # the dimension is related to mesh entity where dofs are located\n",
    "\n",
    "# Setting to zero located dofs related to boundaries\n",
    "u_d = Function(Q)\n",
    "u_d.x.array[:] = 0.0  # Asign Dirichlet condition value\n",
    "bc.append(dirichletbc(u_d, o_boundary_dofs)) \n",
    "facets = locate_entities_boundary(mesh, 0, lambda x: np.isclose(x[0], Lx+pml_thickness))\n",
    "o_boundary_dofs = locate_dofs_topological(Q, 0, facets)  # the dimension is related to mesh entity where dofs are located\n",
    "\n",
    "# Setting to zero located dofs related to boundaries\n",
    "u_d = Function(Q)\n",
    "u_d.x.array[:] = 0.0  # Asign Dirichlet condition value\n",
    "bc.append(dirichletbc(u_d, o_boundary_dofs)) \n",
    "\n",
    "# Define differential operators\n",
    "dx = Measure(\"dx\", domain=mesh)\n",
    "# Interpolates the density and velocity functions\n",
    "W = functionspace(mesh, (\"DG\", 2))\n",
    "rho = Function(W)\n",
    "rho.interpolate(rho_function)\n",
    "c = Function(W)\n",
    "c.interpolate(vel_function)\n",
    "\n",
    "# Spatial Coordinate is updated for the actual mesh\n",
    "x = SpatialCoordinate(mesh)\n",
    "\n",
    "# Variation formulation definition\n",
    "p = TrialFunction(Q) \n",
    "v = TrialFunction(V)\n",
    "q = TestFunction(Q)\n",
    "w = TestFunction(V)\n"
   ]
  },
  {
   "cell_type": "code",
   "execution_count": 6,
   "metadata": {},
   "outputs": [],
   "source": [
    "\n",
    "def get_solver(sigma_x):\n",
    "    a = form(\n",
    "        [\n",
    "            [sigma_x(x) / (rho * c**2) * p * conj(q) * dx, -1 * inner(v, grad(q)) * dx],\n",
    "            [inner(grad(p), w) * dx, sigma_x(x) * rho * inner(v, w) * dx],\n",
    "        ]\n",
    "    )\n",
    "    b = form(\n",
    "        [\n",
    "            [1.0 / (rho * c**2) * p * conj(q) * dx, None],\n",
    "            [None, rho * inner(v, w) * dx],\n",
    "        ]  \n",
    "    )\n",
    "    # Assemble matrices\n",
    "    A = petsc.assemble_matrix_block(a, bcs=bc)\n",
    "    A.assemble()\n",
    "    B = petsc.assemble_matrix_block(b, bcs=bc)\n",
    "    B.assemble()\n",
    "\n",
    "    # SLEPc solver configuration for linear eigenvalue problem (A x =\\lambda x B)\n",
    "    solver = EPS().create()\n",
    "    solver.setOperators(-A, B)\n",
    "    solver.setType(\"arnoldi\")\n",
    "    solver.setWhichEigenpairs(9)  # TARGET_IMAGINARY = 9, TARGET_MAGNITUDE = 7, TARGET_REAL = 8\n",
    "    solver.setDimensions(\n",
    "        requested_eigenvalues_number,\n",
    "        4 * requested_eigenvalues_number,\n",
    "        4 * requested_eigenvalues_number,\n",
    "    )\n",
    "    solver.setTolerances(1e-7, 100)\n",
    "    st = solver.getST()\n",
    "    st.setType(\"sinvert\")  # Applying spectral transformation \"shift and invert\" \n",
    "    solver.setTarget(-30j)  \n",
    "    solver.solve()\n",
    "    n_eigs_converged_piecewise = solver.getConverged()\n",
    "\n",
    "    return solver\n",
    "# print(dof[\"p\"], dof[\"v\"])"
   ]
  },
  {
   "cell_type": "markdown",
   "metadata": {},
   "source": [
    "Approx eigenvalues calculation"
   ]
  },
  {
   "cell_type": "code",
   "execution_count": 7,
   "metadata": {},
   "outputs": [],
   "source": [
    "def get_approx_eigenpair(solver, selected_index, Q, V):\n",
    "    \n",
    "    # Gets p, v eigenvectors\n",
    "    p_h = Function(Q, name=\"p\")\n",
    "    v_h = Function(V, name=\"v\")\n",
    "    dof[\"p\"] = Q.dofmap.index_map.size_global\n",
    "    dof[\"v\"] = V.dofmap.index_map.size_global\n",
    "    [vrA, viA] = solver.getOperators()[0].getVecs()  # type: ignore\n",
    "    omega_value = solver.getEigenpair(selected_index, vrA) * (1j)  # type: ignore\n",
    "    # FEM approximation for the eigenfunction\n",
    "    p_h.x.petsc_vec.array[:] = vrA[0 : dof[\"p\"]]\n",
    "    p_h.x.petsc_vec.array[:] = p_h.x.petsc_vec.array[:] / p_h.eval([Lx, 0.0, 0.0], 1)  # normalise\n",
    "    v_h.x.petsc_vec.array[:] = vrA[dof[\"p\"] :]  \n",
    "    v_h.x.petsc_vec.array[:] = v_h.x.petsc_vec.array[:] / v_h.eval([Lx, 0.0, 0.0], 1)  # normalise\n",
    "\n",
    "    return [omega_value, p_h, v_h]  # Return eigenfunction and eigenvalue"
   ]
  },
  {
   "cell_type": "code",
   "execution_count": 8,
   "metadata": {},
   "outputs": [],
   "source": [
    "def get_exact_eigenpair(solver, selected_index, Q, V):\n",
    "    exact_physical_eigs_function= lambda n: vel_media_1 / l_inner * np.arctan(-1j * (vel_media_2 * rho_media_2) / (vel_media_1 * rho_media_1))+ n * np.pi * vel_media_1 / l_inner\n",
    "    w=exact_physical_eigs_function(selected_index)\n",
    "\n",
    "    p_1 = lambda x: np.sin(w * x[0] / vel_media_1)\n",
    "    p_2 = lambda x: -np.sin(-w * l_inner / vel_media_1) * np.exp(1j * w / vel_media_2 * (x_hat(x,w) - l_inner))\n",
    "    p = lambda x: np.where(x[0] == Lx + pml_thickness, 0, np.where(x[0] >= l_inner, p_2(x), p_1(x)))\n",
    "\n",
    "    sigma_x = lambda x: np.where(x[0] >= l_inner, sigma_0, 0)\n",
    "    sigma_x_function_cond= lambda x: np.where(x[0]<=Lx, x[0]*0., np.where(x[0] == Lx + pml_thickness, x[0]*0.0+1e10, sigma_x(x)))\n",
    "    v_1=lambda x: 1/(-1j*w)*(w / vel_media_1) * np.cos(w * x[0] / vel_media_1)\n",
    "    v_2 = (lambda x: 1/(-1j*w+sigma_x_function_cond(x)*rho_media_1)* -np.sin(-w * l_inner / vel_media_1) *(1j * w / vel_media_2)\n",
    "        * np.exp(1j * w / vel_media_2 * (x_hat(x,w) - l_inner))* gamma_x(x, w)[0])\n",
    "    v = lambda x: np.where(x[0] >= l_inner, v_2(x), v_1(x))\n",
    "\n",
    "    Q = functionspace(mesh, FE[\"p\"])\n",
    "    V = functionspace(mesh, FE[\"v\"])\n",
    "\n",
    "    p_ex = Function(Q, name=\"p_ex\")\n",
    "    p_ex.interpolate(p)\n",
    "    p_ex.x.petsc_vec.array[:] = p_ex.x.petsc_vec.array[:] / p_ex.eval(np.array([Lx, 0.0, 0.0]), 1)\n",
    "\n",
    "    v_ex = Function(V, name=\"v_ex\")\n",
    "    v_ex.interpolate(v)\n",
    "    v_ex.x.petsc_vec.array[:] = v_ex.x.petsc_vec.array[:] / v_ex.eval(np.array([Lx, 0.0, 0.0]), 1)\n",
    "\n",
    "    return [w, p_ex, v_ex]"
   ]
  },
  {
   "cell_type": "markdown",
   "metadata": {},
   "source": [
    "Piecewise-constant"
   ]
  },
  {
   "cell_type": "code",
   "execution_count": 9,
   "metadata": {},
   "outputs": [],
   "source": [
    "# Define piecewise-constant stretching function\n",
    "x_hat_piecewise = lambda x, w: np.where(x[0] <= Lx, x[0], x[0]+  1j / w * (x[0] - Lx) * sigma_0)\n",
    "\n",
    "#Define sigma and gamma piecewise-constant functions\n",
    "gamma_x_piecewise = lambda x, omega: 1.0 + (x[0] >= Lx) * 1j / omega * sigma_0\n",
    "sigma_x_piecewise = lambda x: conditional(x[0] > Lx, sigma_0, 0.0)\n",
    "# Define solver for piecewise-constant PML\n",
    "solver_piecewise=get_solver(sigma_x_piecewise)\n"
   ]
  },
  {
   "cell_type": "markdown",
   "metadata": {},
   "source": [
    "Quadratic"
   ]
  },
  {
   "cell_type": "code",
   "execution_count": 10,
   "metadata": {},
   "outputs": [],
   "source": [
    "# Define quadratic sigma function\n",
    "sigma_x_quadratic= lambda x: conditional(x[0] >= Lx, sigma_0 * ( x[0] - Lx) ** 2, 0.0 )\n",
    "# Define solver for quadratic PML\n",
    "solver_quadratic=get_solver(sigma_x_quadratic)"
   ]
  },
  {
   "cell_type": "markdown",
   "metadata": {},
   "source": [
    "Singular"
   ]
  },
  {
   "cell_type": "code",
   "execution_count": 11,
   "metadata": {},
   "outputs": [],
   "source": [
    "# Define singular sigma function\n",
    "sigma_x_singular=lambda x: conditional(x[0] > Lx, sigma_0 / (Lx + pml_thickness - x[0]), 0.0)\n",
    "# Define solver for singular PML\n",
    "solver_singular=get_solver(sigma_x_singular)"
   ]
  },
  {
   "cell_type": "markdown",
   "metadata": {},
   "source": [
    "Plot of eigenvalues"
   ]
  },
  {
   "cell_type": "code",
   "execution_count": 12,
   "metadata": {},
   "outputs": [
    {
     "ename": "NameError",
     "evalue": "name 'x_hat' is not defined",
     "output_type": "error",
     "traceback": [
      "\u001b[0;31m---------------------------------------------------------------------------\u001b[0m",
      "\u001b[0;31mTypeError\u001b[0m                                 Traceback (most recent call last)",
      "File \u001b[0;32m~/miniconda3/envs/cleaned-fenicsx/lib/python3.10/site-packages/dolfinx/fem/function.py:459\u001b[0m, in \u001b[0;36mFunction.interpolate\u001b[0;34m(self, u0, cells0, cells1)\u001b[0m\n\u001b[1;32m    457\u001b[0m \u001b[38;5;28;01mtry\u001b[39;00m:\n\u001b[1;32m    458\u001b[0m     \u001b[38;5;66;03m# u is a Function or Expression (or pointer to one)\u001b[39;00m\n\u001b[0;32m--> 459\u001b[0m     \u001b[43m_interpolate\u001b[49m\u001b[43m(\u001b[49m\u001b[43mu0\u001b[49m\u001b[43m)\u001b[49m\n\u001b[1;32m    460\u001b[0m \u001b[38;5;28;01mexcept\u001b[39;00m \u001b[38;5;167;01mTypeError\u001b[39;00m:\n\u001b[1;32m    461\u001b[0m     \u001b[38;5;66;03m# u0 is callable\u001b[39;00m\n",
      "File \u001b[0;32m~/miniconda3/envs/cleaned-fenicsx/lib/python3.10/functools.py:889\u001b[0m, in \u001b[0;36msingledispatch.<locals>.wrapper\u001b[0;34m(*args, **kw)\u001b[0m\n\u001b[1;32m    886\u001b[0m     \u001b[38;5;28;01mraise\u001b[39;00m \u001b[38;5;167;01mTypeError\u001b[39;00m(\u001b[38;5;124mf\u001b[39m\u001b[38;5;124m'\u001b[39m\u001b[38;5;132;01m{\u001b[39;00mfuncname\u001b[38;5;132;01m}\u001b[39;00m\u001b[38;5;124m requires at least \u001b[39m\u001b[38;5;124m'\u001b[39m\n\u001b[1;32m    887\u001b[0m                     \u001b[38;5;124m'\u001b[39m\u001b[38;5;124m1 positional argument\u001b[39m\u001b[38;5;124m'\u001b[39m)\n\u001b[0;32m--> 889\u001b[0m \u001b[38;5;28;01mreturn\u001b[39;00m \u001b[43mdispatch\u001b[49m\u001b[43m(\u001b[49m\u001b[43margs\u001b[49m\u001b[43m[\u001b[49m\u001b[38;5;241;43m0\u001b[39;49m\u001b[43m]\u001b[49m\u001b[38;5;241;43m.\u001b[39;49m\u001b[38;5;18;43m__class__\u001b[39;49m\u001b[43m)\u001b[49m\u001b[43m(\u001b[49m\u001b[38;5;241;43m*\u001b[39;49m\u001b[43margs\u001b[49m\u001b[43m,\u001b[49m\u001b[43m \u001b[49m\u001b[38;5;241;43m*\u001b[39;49m\u001b[38;5;241;43m*\u001b[39;49m\u001b[43mkw\u001b[49m\u001b[43m)\u001b[49m\n",
      "File \u001b[0;32m~/miniconda3/envs/cleaned-fenicsx/lib/python3.10/site-packages/dolfinx/fem/function.py:440\u001b[0m, in \u001b[0;36mFunction.interpolate.<locals>._interpolate\u001b[0;34m(u0)\u001b[0m\n\u001b[1;32m    439\u001b[0m \u001b[38;5;250m\u001b[39m\u001b[38;5;124;03m\"\"\"Interpolate a cpp.fem.Function.\"\"\"\u001b[39;00m\n\u001b[0;32m--> 440\u001b[0m \u001b[38;5;28;43mself\u001b[39;49m\u001b[38;5;241;43m.\u001b[39;49m\u001b[43m_cpp_object\u001b[49m\u001b[38;5;241;43m.\u001b[39;49m\u001b[43minterpolate\u001b[49m\u001b[43m(\u001b[49m\u001b[43mu0\u001b[49m\u001b[43m,\u001b[49m\u001b[43m \u001b[49m\u001b[43mcells0\u001b[49m\u001b[43m,\u001b[49m\u001b[43m \u001b[49m\u001b[43mcells1\u001b[49m\u001b[43m)\u001b[49m\n",
      "\u001b[0;31mTypeError\u001b[0m: interpolate(): incompatible function arguments. The following argument types are supported:\n    1. interpolate(self, f: ndarray[dtype=complex128, writable=False, shape=(*), order='C'], cells: ndarray[dtype=int32, writable=False, shape=(*), order='C']) -> None\n    2. interpolate(self, f: ndarray[dtype=complex128, writable=False, shape=(*, *), order='C'], cells: ndarray[dtype=int32, writable=False, shape=(*), order='C']) -> None\n    3. interpolate(self, u: dolfinx.cpp.fem.Function_complex128, cells0: ndarray[dtype=int32, writable=False, shape=(*), order='C'], cells1: ndarray[dtype=int32, writable=False, shape=(*), order='C']) -> None\n    4. interpolate(self, u: dolfinx.cpp.fem.Function_complex128, cells: ndarray[dtype=int32, writable=False, shape=(*), order='C'], interpolation_data: dolfinx.cpp.geometry.PointOwnershipData_float64) -> None\n    5. interpolate(self, e0: dolfinx.cpp.fem.Expression_complex128, cells0: ndarray[dtype=int32, writable=False, order='C'], cells1: ndarray[dtype=int32, writable=False, order='C']) -> None\n\nInvoked with types: dolfinx.cpp.fem.Function_complex128, function, ndarray, ndarray",
      "\nDuring handling of the above exception, another exception occurred:\n",
      "\u001b[0;31mNameError\u001b[0m                                 Traceback (most recent call last)",
      "Cell \u001b[0;32mIn[12], line 8\u001b[0m\n\u001b[1;32m      6\u001b[0m [omega_h_singular, p_h_singular, v_h_singular] \u001b[38;5;241m=\u001b[39m get_approx_eigenpair(solver_singular, eig_number, Q, V)\n\u001b[1;32m      7\u001b[0m \u001b[38;5;66;03m# Get the exact eigenpair\u001b[39;00m\n\u001b[0;32m----> 8\u001b[0m [omega_ex, p_ex, v_ex] \u001b[38;5;241m=\u001b[39m \u001b[43mget_exact_eigenpair\u001b[49m\u001b[43m(\u001b[49m\u001b[43msolver_piecewise\u001b[49m\u001b[43m,\u001b[49m\u001b[43m \u001b[49m\u001b[43meig_number\u001b[49m\u001b[43m,\u001b[49m\u001b[43m \u001b[49m\u001b[43mQ\u001b[49m\u001b[43m,\u001b[49m\u001b[43m \u001b[49m\u001b[43mV\u001b[49m\u001b[43m)\u001b[49m\n",
      "Cell \u001b[0;32mIn[8], line 20\u001b[0m, in \u001b[0;36mget_exact_eigenpair\u001b[0;34m(solver, selected_index, Q, V)\u001b[0m\n\u001b[1;32m     17\u001b[0m V \u001b[38;5;241m=\u001b[39m functionspace(mesh, FE[\u001b[38;5;124m\"\u001b[39m\u001b[38;5;124mv\u001b[39m\u001b[38;5;124m\"\u001b[39m])\n\u001b[1;32m     19\u001b[0m p_ex \u001b[38;5;241m=\u001b[39m Function(Q, name\u001b[38;5;241m=\u001b[39m\u001b[38;5;124m\"\u001b[39m\u001b[38;5;124mp_ex\u001b[39m\u001b[38;5;124m\"\u001b[39m)\n\u001b[0;32m---> 20\u001b[0m \u001b[43mp_ex\u001b[49m\u001b[38;5;241;43m.\u001b[39;49m\u001b[43minterpolate\u001b[49m\u001b[43m(\u001b[49m\u001b[43mp\u001b[49m\u001b[43m)\u001b[49m\n\u001b[1;32m     21\u001b[0m p_ex\u001b[38;5;241m.\u001b[39mx\u001b[38;5;241m.\u001b[39mpetsc_vec\u001b[38;5;241m.\u001b[39marray[:] \u001b[38;5;241m=\u001b[39m p_ex\u001b[38;5;241m.\u001b[39mx\u001b[38;5;241m.\u001b[39mpetsc_vec\u001b[38;5;241m.\u001b[39marray[:] \u001b[38;5;241m/\u001b[39m p_ex\u001b[38;5;241m.\u001b[39meval(np\u001b[38;5;241m.\u001b[39marray([Lx, \u001b[38;5;241m0.0\u001b[39m, \u001b[38;5;241m0.0\u001b[39m]), \u001b[38;5;241m1\u001b[39m)\n\u001b[1;32m     23\u001b[0m v_ex \u001b[38;5;241m=\u001b[39m Function(V, name\u001b[38;5;241m=\u001b[39m\u001b[38;5;124m\"\u001b[39m\u001b[38;5;124mv_ex\u001b[39m\u001b[38;5;124m\"\u001b[39m)\n",
      "File \u001b[0;32m~/miniconda3/envs/cleaned-fenicsx/lib/python3.10/site-packages/dolfinx/fem/function.py:466\u001b[0m, in \u001b[0;36mFunction.interpolate\u001b[0;34m(self, u0, cells0, cells1)\u001b[0m\n\u001b[1;32m    462\u001b[0m \u001b[38;5;28;01massert\u001b[39;00m \u001b[38;5;28mcallable\u001b[39m(u0)\n\u001b[1;32m    463\u001b[0m x \u001b[38;5;241m=\u001b[39m _cpp\u001b[38;5;241m.\u001b[39mfem\u001b[38;5;241m.\u001b[39minterpolation_coords(\n\u001b[1;32m    464\u001b[0m     \u001b[38;5;28mself\u001b[39m\u001b[38;5;241m.\u001b[39m_V\u001b[38;5;241m.\u001b[39melement, \u001b[38;5;28mself\u001b[39m\u001b[38;5;241m.\u001b[39m_V\u001b[38;5;241m.\u001b[39mmesh\u001b[38;5;241m.\u001b[39mgeometry\u001b[38;5;241m.\u001b[39m_cpp_object, cells0\n\u001b[1;32m    465\u001b[0m )\n\u001b[0;32m--> 466\u001b[0m \u001b[38;5;28mself\u001b[39m\u001b[38;5;241m.\u001b[39m_cpp_object\u001b[38;5;241m.\u001b[39minterpolate(np\u001b[38;5;241m.\u001b[39masarray(\u001b[43mu0\u001b[49m\u001b[43m(\u001b[49m\u001b[43mx\u001b[49m\u001b[43m)\u001b[49m, dtype\u001b[38;5;241m=\u001b[39m\u001b[38;5;28mself\u001b[39m\u001b[38;5;241m.\u001b[39mdtype), cells0)\n",
      "Cell \u001b[0;32mIn[8], line 7\u001b[0m, in \u001b[0;36mget_exact_eigenpair.<locals>.<lambda>\u001b[0;34m(x)\u001b[0m\n\u001b[1;32m      5\u001b[0m p_1 \u001b[38;5;241m=\u001b[39m \u001b[38;5;28;01mlambda\u001b[39;00m x: np\u001b[38;5;241m.\u001b[39msin(w \u001b[38;5;241m*\u001b[39m x[\u001b[38;5;241m0\u001b[39m] \u001b[38;5;241m/\u001b[39m vel_media_1)\n\u001b[1;32m      6\u001b[0m p_2 \u001b[38;5;241m=\u001b[39m \u001b[38;5;28;01mlambda\u001b[39;00m x: \u001b[38;5;241m-\u001b[39mnp\u001b[38;5;241m.\u001b[39msin(\u001b[38;5;241m-\u001b[39mw \u001b[38;5;241m*\u001b[39m l_inner \u001b[38;5;241m/\u001b[39m vel_media_1) \u001b[38;5;241m*\u001b[39m np\u001b[38;5;241m.\u001b[39mexp(\u001b[38;5;241m1\u001b[39mj \u001b[38;5;241m*\u001b[39m w \u001b[38;5;241m/\u001b[39m vel_media_2 \u001b[38;5;241m*\u001b[39m (x_hat(x,w) \u001b[38;5;241m-\u001b[39m l_inner))\n\u001b[0;32m----> 7\u001b[0m p \u001b[38;5;241m=\u001b[39m \u001b[38;5;28;01mlambda\u001b[39;00m x: np\u001b[38;5;241m.\u001b[39mwhere(x[\u001b[38;5;241m0\u001b[39m] \u001b[38;5;241m==\u001b[39m Lx \u001b[38;5;241m+\u001b[39m pml_thickness, \u001b[38;5;241m0\u001b[39m, np\u001b[38;5;241m.\u001b[39mwhere(x[\u001b[38;5;241m0\u001b[39m] \u001b[38;5;241m>\u001b[39m\u001b[38;5;241m=\u001b[39m l_inner, \u001b[43mp_2\u001b[49m\u001b[43m(\u001b[49m\u001b[43mx\u001b[49m\u001b[43m)\u001b[49m, p_1(x)))\n\u001b[1;32m      9\u001b[0m sigma_x \u001b[38;5;241m=\u001b[39m \u001b[38;5;28;01mlambda\u001b[39;00m x: np\u001b[38;5;241m.\u001b[39mwhere(x[\u001b[38;5;241m0\u001b[39m] \u001b[38;5;241m>\u001b[39m\u001b[38;5;241m=\u001b[39m l_inner, sigma_0, \u001b[38;5;241m0\u001b[39m)\n\u001b[1;32m     10\u001b[0m sigma_x_function_cond\u001b[38;5;241m=\u001b[39m \u001b[38;5;28;01mlambda\u001b[39;00m x: np\u001b[38;5;241m.\u001b[39mwhere(x[\u001b[38;5;241m0\u001b[39m]\u001b[38;5;241m<\u001b[39m\u001b[38;5;241m=\u001b[39mLx, x[\u001b[38;5;241m0\u001b[39m]\u001b[38;5;241m*\u001b[39m\u001b[38;5;241m0.\u001b[39m, np\u001b[38;5;241m.\u001b[39mwhere(x[\u001b[38;5;241m0\u001b[39m] \u001b[38;5;241m==\u001b[39m Lx \u001b[38;5;241m+\u001b[39m pml_thickness, x[\u001b[38;5;241m0\u001b[39m]\u001b[38;5;241m*\u001b[39m\u001b[38;5;241m0.0\u001b[39m\u001b[38;5;241m+\u001b[39m\u001b[38;5;241m1e10\u001b[39m, sigma_x(x)))\n",
      "Cell \u001b[0;32mIn[8], line 6\u001b[0m, in \u001b[0;36mget_exact_eigenpair.<locals>.<lambda>\u001b[0;34m(x)\u001b[0m\n\u001b[1;32m      3\u001b[0m w\u001b[38;5;241m=\u001b[39mexact_physical_eigs_function(selected_index)\n\u001b[1;32m      5\u001b[0m p_1 \u001b[38;5;241m=\u001b[39m \u001b[38;5;28;01mlambda\u001b[39;00m x: np\u001b[38;5;241m.\u001b[39msin(w \u001b[38;5;241m*\u001b[39m x[\u001b[38;5;241m0\u001b[39m] \u001b[38;5;241m/\u001b[39m vel_media_1)\n\u001b[0;32m----> 6\u001b[0m p_2 \u001b[38;5;241m=\u001b[39m \u001b[38;5;28;01mlambda\u001b[39;00m x: \u001b[38;5;241m-\u001b[39mnp\u001b[38;5;241m.\u001b[39msin(\u001b[38;5;241m-\u001b[39mw \u001b[38;5;241m*\u001b[39m l_inner \u001b[38;5;241m/\u001b[39m vel_media_1) \u001b[38;5;241m*\u001b[39m np\u001b[38;5;241m.\u001b[39mexp(\u001b[38;5;241m1\u001b[39mj \u001b[38;5;241m*\u001b[39m w \u001b[38;5;241m/\u001b[39m vel_media_2 \u001b[38;5;241m*\u001b[39m (\u001b[43mx_hat\u001b[49m(x,w) \u001b[38;5;241m-\u001b[39m l_inner))\n\u001b[1;32m      7\u001b[0m p \u001b[38;5;241m=\u001b[39m \u001b[38;5;28;01mlambda\u001b[39;00m x: np\u001b[38;5;241m.\u001b[39mwhere(x[\u001b[38;5;241m0\u001b[39m] \u001b[38;5;241m==\u001b[39m Lx \u001b[38;5;241m+\u001b[39m pml_thickness, \u001b[38;5;241m0\u001b[39m, np\u001b[38;5;241m.\u001b[39mwhere(x[\u001b[38;5;241m0\u001b[39m] \u001b[38;5;241m>\u001b[39m\u001b[38;5;241m=\u001b[39m l_inner, p_2(x), p_1(x)))\n\u001b[1;32m      9\u001b[0m sigma_x \u001b[38;5;241m=\u001b[39m \u001b[38;5;28;01mlambda\u001b[39;00m x: np\u001b[38;5;241m.\u001b[39mwhere(x[\u001b[38;5;241m0\u001b[39m] \u001b[38;5;241m>\u001b[39m\u001b[38;5;241m=\u001b[39m l_inner, sigma_0, \u001b[38;5;241m0\u001b[39m)\n",
      "\u001b[0;31mNameError\u001b[0m: name 'x_hat' is not defined"
     ]
    }
   ],
   "source": [
    "eig_number = 0\n",
    "\n",
    "# Get the approximated eigenpair\n",
    "[omega_h_piecewise, p_h_piecewise, v_h_piecewise] = get_approx_eigenpair(solver_piecewise, eig_number, Q, V)\n",
    "[omega_h_quadratic, p_h_quadratic, v_h_quadratic] = get_approx_eigenpair(solver_quadratic, eig_number, Q, V)\n",
    "[omega_h_singular, p_h_singular, v_h_singular] = get_approx_eigenpair(solver_singular, eig_number, Q, V)\n",
    "# Get the exact eigenpair\n",
    "[omega_ex, p_ex, v_ex] = get_exact_eigenpair(solver_piecewise, eig_number, Q, V)\n"
   ]
  },
  {
   "cell_type": "code",
   "execution_count": null,
   "metadata": {},
   "outputs": [],
   "source": [
    "# Crear una figura con dos subgráficas\n",
    "fig, (ax1, ax2) = plt.subplots(1, 2, figsize=(12, 6))\n",
    "\n",
    "# Subgráfico 1: Representación de p(x)\n",
    "ax1.grid(True)\n",
    "ax1.plot(mesh.geometry.x[:, 0], np.real(p_ex.x.petsc_vec.array), \"-\", label=\"exact\")\n",
    "ax1.plot(mesh.geometry.x[:, 0], np.real(p_h_piecewise.x.petsc_vec.array), \"-.\", label=\"C\")\n",
    "ax1.plot(mesh.geometry.x[:, 0], np.real(p_h_quadratic.x.petsc_vec.array), \"-.\", label=\"Q\")\n",
    "# ax1.plot(mesh.geometry.x[:, 0], np.real(p_h_singular.x.petsc_vec.array), \"-.\", label=\"S\")\n",
    "ax1.set_xlabel(\"x\")\n",
    "ax1.set_ylabel(\"Re(p(x))\")\n",
    "ax1.legend()\n",
    "\n",
    "# Subgráfico 2: Representación de v(x)\n",
    "dofmap = functionspace(mesh, FE[\"v\"]).dofmap.index_map.local_range  # Rango local de DoFs\n",
    "local_coords = mesh.geometry.x[dofmap[0]:dofmap[1], :]  # Coordenadas locales\n",
    "x_coord = [x[0] for x in local_coords]\n",
    "\n",
    "ax2.grid(True)\n",
    "ax2.plot(x_coord, np.real(v_ex.x.petsc_vec.array), \"-\", label=\"exact\")\n",
    "ax2.plot(x_coord, np.real(v_h_piecewise.x.petsc_vec.array), \"-.\", label=\"C\")\n",
    "ax2.plot(x_coord, np.real(v_h_quadratic.x.petsc_vec.array), \"-.\", label=\"Q\")\n",
    "# ax2.plot(x_coord, np.real(v_h_singular.x.petsc_vec.array), \"-.\", label=\"S\")\n",
    "ax2.set_xlabel(\"x\")\n",
    "ax2.set_ylabel(\"Re(v(x))\")\n",
    "ax2.legend()\n",
    "\n",
    "plt.tight_layout()  # Ajustar el espaciado entre subgráficas\n",
    "plt.show()\n",
    "\n"
   ]
  }
 ],
 "metadata": {
  "kernelspec": {
   "display_name": "cleaned-fenicsx",
   "language": "python",
   "name": "python3"
  },
  "language_info": {
   "codemirror_mode": {
    "name": "ipython",
    "version": 3
   },
   "file_extension": ".py",
   "mimetype": "text/x-python",
   "name": "python",
   "nbconvert_exporter": "python",
   "pygments_lexer": "ipython3",
   "version": "3.10.16"
  },
  "orig_nbformat": 4
 },
 "nbformat": 4,
 "nbformat_minor": 2
}

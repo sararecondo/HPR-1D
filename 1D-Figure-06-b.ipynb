{
 "cells": [
  {
   "cell_type": "markdown",
   "metadata": {},
   "source": [
    "2Bilayer unit domain. Sigma optimisation. Erro eig+eigv."
   ]
  },
  {
   "cell_type": "code",
   "execution_count": 363,
   "metadata": {},
   "outputs": [],
   "source": [
    "# Importing libraries\n",
    "import matplotlib.pyplot as plt\n",
    "from matplotlib import ticker\n",
    "import numpy as np\n",
    "from mpi4py import MPI\n",
    "from ufl import (\n",
    "    inner,\n",
    "    grad,\n",
    "    conj,\n",
    "    TrialFunction,\n",
    "    TestFunction,\n",
    "    as_matrix,\n",
    "    as_vector,\n",
    "    dot,\n",
    "    Or,\n",
    "    Measure,\n",
    "    conditional,\n",
    "    SpatialCoordinate,\n",
    ")\n",
    "from dolfinx.mesh import locate_entities_boundary, create_interval, locate_entities, create_submesh\n",
    "from dolfinx.fem import FunctionSpace, Function, functionspace, Function, dirichletbc, locate_dofs_topological, petsc, form, assemble_matrix\n",
    "import basix\n",
    "from petsc4py.PETSc import ScalarType\n",
    "from slepc4py.SLEPc import EPS  \n",
    "colors_list = [\"blue\", \"green\", \"red\", \"magenta\", \"black\", \"purple\", \"orange\", \"brown\", \"pink\"]\n"
   ]
  },
  {
   "cell_type": "markdown",
   "metadata": {},
   "source": [
    "Domain, PML, refinement and physical configurations"
   ]
  },
  {
   "cell_type": "code",
   "execution_count": 364,
   "metadata": {},
   "outputs": [],
   "source": [
    "sigma_sweep_quadratic=np.linspace(40,300, 21) #61\n"
   ]
  },
  {
   "cell_type": "code",
   "execution_count": 365,
   "metadata": {},
   "outputs": [],
   "source": [
    "# Define element size for the mesh refinement\n",
    "# h_i = [0.125,\n",
    "#     0.0625,\n",
    "#     0.0625 / 2,\n",
    "#     0.0625 / 4,\n",
    "#     0.0625 / 8]\n",
    "h=0.0625/4\n",
    "\n",
    "# Domain configuration\n",
    "Lx = 1. # fluid domain length (without PML)\n",
    "l_inner=Lx/2\n",
    "\n",
    "# Physical configuration\n",
    "rho_media_1 = 1. # kg/m^3 \n",
    "vel_media_1 = 1.   # m/s\n",
    "rho_media_2 = 1. # kg/m^3 \n",
    "vel_media_2 = 2.   # m/s\n",
    "\n",
    "\n",
    "# Define the density and velocity functions  \n",
    "def rho_function(x):    \n",
    "    return np.where(x[0] > l_inner, rho_media_2,rho_media_1)\n",
    "\n",
    "def vel_function(x):    \n",
    "    return np.where(x[0] > l_inner, vel_media_2,vel_media_1)\n",
    "\n",
    "# PML configuration\n",
    "pml_thickness = Lx/4\n",
    "sigma_0 = 1 #0.484375\n",
    "\n",
    "# Solver configuration\n",
    "\n",
    "requested_eigenvalues_number = 50 # Number of eigenvalues to compute"
   ]
  },
  {
   "cell_type": "markdown",
   "metadata": {},
   "source": [
    "Solver configuration and computing"
   ]
  },
  {
   "cell_type": "code",
   "execution_count": 366,
   "metadata": {},
   "outputs": [],
   "source": [
    "def get_configured_problem(mesh, degrees, sigma_x):\n",
    "    # Initialize dictionaries\n",
    "    dof = {}\n",
    "    solver_dict={}\n",
    "    V_dict={}\n",
    "    Q_dict={}\n",
    "\n",
    "    # Define finite element spaces\n",
    "    p_fe_type = basix.ufl.element(family=\"Lagrange\", cell=mesh.basix_cell(), degree=degrees[0])\n",
    "    v_fe_type = basix.ufl.element(family=\"DG\", cell=mesh.basix_cell(), degree=degrees[1], shape=(mesh.geometry.dim,))\n",
    "    FE = {\"p\": p_fe_type, \"v\": v_fe_type}\n",
    "\n",
    "    # Create a submesh of PML associated cells\n",
    "    tdim = mesh.topology.dim\n",
    "\n",
    "    # Identify the fluid cells\n",
    "    fluid_cells = locate_entities(mesh, tdim, lambda x: x[0] <= Lx)\n",
    "\n",
    "    # Create function spaces for mesh and submesh\n",
    "    Q = functionspace(mesh,FE[\"p\"])\n",
    "    V = functionspace(mesh, FE[\"v\"])\n",
    "\n",
    "    # Dictionaries to store the number of dofs\n",
    "    dof[\"p\"] = Q.dofmap.index_map.size_global\n",
    "    dof[\"v\"] = V.dofmap.index_map.size_global\n",
    "\n",
    "    # Boundary conditions application (for pressure)\n",
    "    bc = []\n",
    "    facets = locate_entities_boundary(mesh, 0, lambda x: np.isclose(x[0], 0.0))\n",
    "    o_boundary_dofs = locate_dofs_topological(Q, 0, facets)  # the dimension is related to mesh entity where dofs are located\n",
    "\n",
    "    # Setting to zero located dofs related to boundaries\n",
    "    u_d = Function(Q)\n",
    "    u_d.x.array[:] = 0.0  # Asign Dirichlet condition value\n",
    "    bc.append(dirichletbc(u_d, o_boundary_dofs)) \n",
    "    \n",
    "    facets = locate_entities_boundary(mesh, 0, lambda x: np.isclose(x[0], Lx+pml_thickness))\n",
    "    o_boundary_dofs = locate_dofs_topological(Q, 0, facets)  # the dimension is related to mesh entity where dofs are located\n",
    "\n",
    "    # Setting to zero located dofs related to boundaries\n",
    "    u_d = Function(Q)\n",
    "    u_d.x.array[:] = 0.0  # Asign Dirichlet condition value\n",
    "    bc.append(dirichletbc(u_d, o_boundary_dofs)) \n",
    "\n",
    "    # Define differential operators\n",
    "    dx = Measure(\"dx\", domain=mesh, subdomain_data=[(1, fluid_cells)])\n",
    "\n",
    "    # Interpolates the density and velocity functions\n",
    "    W = functionspace(mesh, (\"DG\", 2))\n",
    "    rho = Function(W)\n",
    "    rho.interpolate(rho_function)\n",
    "    c = Function(W)\n",
    "    c.interpolate(vel_function)\n",
    "\n",
    "    # Spatial Coordinate is updated for the actual mesh\n",
    "    x = SpatialCoordinate(mesh)\n",
    "\n",
    "    # Variation formulation definition\n",
    "    p = TrialFunction(Q) \n",
    "    v = TrialFunction(V)\n",
    "    q = TestFunction(Q)\n",
    "    w = TestFunction(V)\n",
    "\n",
    "    # Define the variational forms\n",
    "    a = form(\n",
    "        [\n",
    "            [sigma_x(x) / (rho * c**2) * p * conj(q) * dx, -1 * inner(v, grad(q)) * dx],\n",
    "            [inner(grad(p), w) * dx, sigma_x(x) * rho * inner(v, w) * dx],\n",
    "        ]\n",
    "    )\n",
    "    b = form(\n",
    "        [\n",
    "            [1.0 / (rho * c**2) * p * conj(q) * dx, None],\n",
    "            [None, rho * inner(v, w) * dx],\n",
    "        ]  \n",
    "    )\n",
    "    # Assemble matrices\n",
    "    A = petsc.assemble_matrix_block(a, bcs=bc)\n",
    "    A.assemble()\n",
    "    B = petsc.assemble_matrix_block(b, bcs=bc)\n",
    "    B.assemble()\n",
    "\n",
    "    # SLEPc solver configuration for linear eigenvalue problem (A x =\\lambda x B)\n",
    "    solver = EPS().create()\n",
    "    solver.setOperators(-A, B)\n",
    "    solver.setType(\"arnoldi\")\n",
    "    solver.setWhichEigenpairs(9)  # TARGET_IMAGINARY = 9, TARGET_MAGNITUDE = 7, TARGET_REAL = 8\n",
    "    solver.setDimensions(\n",
    "        requested_eigenvalues_number,\n",
    "        4 * requested_eigenvalues_number,\n",
    "        4 * requested_eigenvalues_number,\n",
    "    )\n",
    "    solver.setTolerances(1e-7, 100)\n",
    "    st = solver.getST()\n",
    "    st.setType(\"sinvert\")  # Applying spectral transformation \"shift and invert\" \n",
    "    solver.setTarget(-2.5j)  \n",
    "    solver.solve()\n",
    "    n_eigs_converged_quadratic = solver.getConverged()\n",
    "\n",
    "    return solver, mesh, Q, V, dof"
   ]
  },
  {
   "cell_type": "markdown",
   "metadata": {},
   "source": [
    "Approx eigenvalues calculation"
   ]
  },
  {
   "cell_type": "code",
   "execution_count": 367,
   "metadata": {},
   "outputs": [],
   "source": [
    "def get_approx_eigenpair(solver, selected_index, Q, V, dof, exact_value):\n",
    "    from numpy import abs\n",
    "\n",
    "    # Gets p, v eigenvectors\n",
    "    p_h = Function(Q, name=\"p\")\n",
    "    v_h = Function(V, name=\"v\")\n",
    "    dof[\"p\"] = Q.dofmap.index_map.size_global\n",
    "    dof[\"v\"] = V.dofmap.index_map.size_global\n",
    "    [vrA, viA] = solver.getOperators()[0].getVecs()  # type: ignore\n",
    "\n",
    "    # Filtrar eigenvalores con parte real maior que 1e-12\n",
    "    eigenvalues = []\n",
    "    for i in range(solver.getConverged()):\n",
    "        omega_value = solver.getEigenpair(i, vrA) * (1j)  # type: ignore\n",
    "        if omega_value.real > 1e-12:\n",
    "            eigenvalues.append((omega_value, vrA.copy()))\n",
    "\n",
    "    if not (0 <= selected_index < len(eigenvalues)):\n",
    "        raise IndexError(\"selected_index fóra de rango dos eigenvalores filtrados\")\n",
    "\n",
    "    # Comprobación do máis próximo ao exacto nun rango de ±5\n",
    "    i_min = max(0, selected_index - 5)\n",
    "    i_max = min(len(eigenvalues), selected_index + 6)\n",
    "\n",
    "    closest_idx = min(\n",
    "        range(i_min, i_max),\n",
    "        key=lambda i: abs(eigenvalues[i][0] - exact_value)\n",
    "    )\n",
    "\n",
    "    if closest_idx != selected_index:\n",
    "        print(f\"Aviso: o índice {selected_index} non é o máis próximo ao valor exacto.\")\n",
    "        print(f\"O máis próximo é o índice {closest_idx} con valor {eigenvalues[closest_idx][0]}\")\n",
    "    # else:\n",
    "        # print(\"O índice seleccionado é o máis próximo ao valor exacto.\")\n",
    "\n",
    "    # Seleccionar o autovalor e vector correspondente\n",
    "    omega_value, vrA = eigenvalues[closest_idx]\n",
    "\n",
    "    # FEM approximation for the eigenfunction\n",
    "    p_h.x.petsc_vec.array[:] = vrA[0 : dof[\"p\"]]\n",
    "    p_h.x.petsc_vec.array[:] /= p_h.eval([Lx, 0.0, 0.0], 1)  # normalizar\n",
    "    v_h.x.petsc_vec.array[:] = vrA[dof[\"p\"] :]  \n",
    "    v_h.x.petsc_vec.array[:] /= v_h.eval([Lx, 0.0, 0.0], 1)  # normalizar\n",
    "\n",
    "    return [omega_value, p_h, v_h]\n"
   ]
  },
  {
   "cell_type": "code",
   "execution_count": 368,
   "metadata": {},
   "outputs": [],
   "source": [
    "x_hat_quadratic=lambda x, w: (\n",
    "            x[0]\n",
    "            + (np.abs(x[0]) > Lx)\n",
    "            * np.sign(x[0])\n",
    "            * 1j\n",
    "            / w\n",
    "            * sigma_0\n",
    "            * (np.abs(x[0]) - Lx) ** 3\n",
    "            / (3 * pml_thickness**2)\n",
    "        )"
   ]
  },
  {
   "cell_type": "code",
   "execution_count": 369,
   "metadata": {},
   "outputs": [],
   "source": [
    "gamma_x_quadratic= lambda x, omega: 1.0 + (np.abs(x[0]) >= Lx) * 1j / omega * sigma_0 * (np.abs(x[0]) - Lx) ** 2"
   ]
  },
  {
   "cell_type": "code",
   "execution_count": 370,
   "metadata": {},
   "outputs": [],
   "source": [
    "def get_exact_eigenpair(solver, selected_index, Q, V, sigma_i=0.):\n",
    "    exact_physical_eigs_function= lambda n: vel_media_1 / l_inner * np.arctan(-1j * (vel_media_2 * rho_media_2) / (vel_media_1 * rho_media_1))+ n * np.pi * vel_media_1 / l_inner\n",
    "    w=exact_physical_eigs_function(selected_index)\n",
    "    x_hat=x_hat_quadratic\n",
    "    gamma_x= gamma_x_quadratic\n",
    "    p_1 = lambda x: np.sin(w * x[0] / vel_media_1)\n",
    "    p_2 = lambda x: -np.sin(w * l_inner / vel_media_1) * np.exp(1j * w / vel_media_2 * (x_hat(x,w) - l_inner))\n",
    "    p = lambda x: np.where(x[0] == Lx + pml_thickness, 0, np.where(x[0] >= l_inner, p_2(x), p_1(x)))\n",
    "\n",
    "    sigma_x = lambda x: np.where(x[0] >= Lx, x[0]*0.0) #sigma_i * (np.abs(x[0]) - Lx) ** 3, 0)\n",
    "    # sigma_x_function_cond= lambda x: np.where(x[0]<=Lx, x[0]*0., np.where(x[0] == Lx + pml_thickness, x[0]*0.0+1e10, sigma_x(x)))\n",
    "    sigma_x_function_cond= lambda x: np.where(x[0]<=Lx, x[0]*0., np.where(x[0] == Lx + pml_thickness, sigma_x(x), sigma_x(x)))\n",
    "\n",
    "    v_1=lambda x: 1/(-1j*w)*(w / vel_media_1) * np.cos(w * x[0] / vel_media_1)\n",
    "    v_2 = (lambda x: 1/(-1j*w+sigma_x_function_cond(x)*rho_media_1)* -np.sin(-w * l_inner / vel_media_1) *(1j * w / vel_media_2)\n",
    "        * np.exp(1j * w / vel_media_2 * (x_hat(x,w) - l_inner))* gamma_x(x, w)[0])\n",
    "    v = lambda x: np.where(x[0] >= l_inner, v_2(x), v_1(x))\n",
    "\n",
    "    p_ex = Function(Q, name=\"p_ex\")\n",
    "    p_ex.interpolate(p)\n",
    "    p_ex.x.petsc_vec.array[:] = p_ex.x.petsc_vec.array[:] / p_ex.eval(np.array([Lx, 0.0, 0.0]), 1)\n",
    "\n",
    "    v_ex = Function(V, name=\"v_ex\")\n",
    "    v_ex.interpolate(v)\n",
    "    # v_ex.x.petsc_vec.array[:] = v_ex.x.petsc_vec.array[:] / v_ex.eval(np.array([Lx, 0.0, 0.0]), 1)\n",
    "\n",
    "    return [w, p_ex, v_ex]"
   ]
  },
  {
   "cell_type": "markdown",
   "metadata": {},
   "source": [
    "quadratic"
   ]
  },
  {
   "cell_type": "code",
   "execution_count": 371,
   "metadata": {},
   "outputs": [
    {
     "ename": "ValueError",
     "evalue": "either both or neither of x and y should be given",
     "output_type": "error",
     "traceback": [
      "\u001b[0;31m---------------------------------------------------------------------------\u001b[0m",
      "\u001b[0;31mTypeError\u001b[0m                                 Traceback (most recent call last)",
      "File \u001b[0;32m~/miniconda3/envs/cleaned-fenicsx/lib/python3.10/site-packages/dolfinx/fem/function.py:459\u001b[0m, in \u001b[0;36mFunction.interpolate\u001b[0;34m(self, u0, cells0, cells1)\u001b[0m\n\u001b[1;32m    457\u001b[0m \u001b[38;5;28;01mtry\u001b[39;00m:\n\u001b[1;32m    458\u001b[0m     \u001b[38;5;66;03m# u is a Function or Expression (or pointer to one)\u001b[39;00m\n\u001b[0;32m--> 459\u001b[0m     \u001b[43m_interpolate\u001b[49m\u001b[43m(\u001b[49m\u001b[43mu0\u001b[49m\u001b[43m)\u001b[49m\n\u001b[1;32m    460\u001b[0m \u001b[38;5;28;01mexcept\u001b[39;00m \u001b[38;5;167;01mTypeError\u001b[39;00m:\n\u001b[1;32m    461\u001b[0m     \u001b[38;5;66;03m# u0 is callable\u001b[39;00m\n",
      "File \u001b[0;32m~/miniconda3/envs/cleaned-fenicsx/lib/python3.10/functools.py:889\u001b[0m, in \u001b[0;36msingledispatch.<locals>.wrapper\u001b[0;34m(*args, **kw)\u001b[0m\n\u001b[1;32m    886\u001b[0m     \u001b[38;5;28;01mraise\u001b[39;00m \u001b[38;5;167;01mTypeError\u001b[39;00m(\u001b[38;5;124mf\u001b[39m\u001b[38;5;124m'\u001b[39m\u001b[38;5;132;01m{\u001b[39;00mfuncname\u001b[38;5;132;01m}\u001b[39;00m\u001b[38;5;124m requires at least \u001b[39m\u001b[38;5;124m'\u001b[39m\n\u001b[1;32m    887\u001b[0m                     \u001b[38;5;124m'\u001b[39m\u001b[38;5;124m1 positional argument\u001b[39m\u001b[38;5;124m'\u001b[39m)\n\u001b[0;32m--> 889\u001b[0m \u001b[38;5;28;01mreturn\u001b[39;00m \u001b[43mdispatch\u001b[49m\u001b[43m(\u001b[49m\u001b[43margs\u001b[49m\u001b[43m[\u001b[49m\u001b[38;5;241;43m0\u001b[39;49m\u001b[43m]\u001b[49m\u001b[38;5;241;43m.\u001b[39;49m\u001b[38;5;18;43m__class__\u001b[39;49m\u001b[43m)\u001b[49m\u001b[43m(\u001b[49m\u001b[38;5;241;43m*\u001b[39;49m\u001b[43margs\u001b[49m\u001b[43m,\u001b[49m\u001b[43m \u001b[49m\u001b[38;5;241;43m*\u001b[39;49m\u001b[38;5;241;43m*\u001b[39;49m\u001b[43mkw\u001b[49m\u001b[43m)\u001b[49m\n",
      "File \u001b[0;32m~/miniconda3/envs/cleaned-fenicsx/lib/python3.10/site-packages/dolfinx/fem/function.py:440\u001b[0m, in \u001b[0;36mFunction.interpolate.<locals>._interpolate\u001b[0;34m(u0)\u001b[0m\n\u001b[1;32m    439\u001b[0m \u001b[38;5;250m\u001b[39m\u001b[38;5;124;03m\"\"\"Interpolate a cpp.fem.Function.\"\"\"\u001b[39;00m\n\u001b[0;32m--> 440\u001b[0m \u001b[38;5;28;43mself\u001b[39;49m\u001b[38;5;241;43m.\u001b[39;49m\u001b[43m_cpp_object\u001b[49m\u001b[38;5;241;43m.\u001b[39;49m\u001b[43minterpolate\u001b[49m\u001b[43m(\u001b[49m\u001b[43mu0\u001b[49m\u001b[43m,\u001b[49m\u001b[43m \u001b[49m\u001b[43mcells0\u001b[49m\u001b[43m,\u001b[49m\u001b[43m \u001b[49m\u001b[43mcells1\u001b[49m\u001b[43m)\u001b[49m\n",
      "\u001b[0;31mTypeError\u001b[0m: interpolate(): incompatible function arguments. The following argument types are supported:\n    1. interpolate(self, f: ndarray[dtype=complex128, writable=False, shape=(*), order='C'], cells: ndarray[dtype=int32, writable=False, shape=(*), order='C']) -> None\n    2. interpolate(self, f: ndarray[dtype=complex128, writable=False, shape=(*, *), order='C'], cells: ndarray[dtype=int32, writable=False, shape=(*), order='C']) -> None\n    3. interpolate(self, u: dolfinx.cpp.fem.Function_complex128, cells0: ndarray[dtype=int32, writable=False, shape=(*), order='C'], cells1: ndarray[dtype=int32, writable=False, shape=(*), order='C']) -> None\n    4. interpolate(self, u: dolfinx.cpp.fem.Function_complex128, cells: ndarray[dtype=int32, writable=False, shape=(*), order='C'], interpolation_data: dolfinx.cpp.geometry.PointOwnershipData_float64) -> None\n    5. interpolate(self, e0: dolfinx.cpp.fem.Expression_complex128, cells0: ndarray[dtype=int32, writable=False, order='C'], cells1: ndarray[dtype=int32, writable=False, order='C']) -> None\n\nInvoked with types: dolfinx.cpp.fem.Function_complex128, function, ndarray, ndarray",
      "\nDuring handling of the above exception, another exception occurred:\n",
      "\u001b[0;31mValueError\u001b[0m                                Traceback (most recent call last)",
      "Cell \u001b[0;32mIn[371], line 23\u001b[0m\n\u001b[1;32m     21\u001b[0m exact \u001b[38;5;241m=\u001b[39m []\n\u001b[1;32m     22\u001b[0m \u001b[38;5;28;01mfor\u001b[39;00m n \u001b[38;5;129;01min\u001b[39;00m \u001b[38;5;28mrange\u001b[39m(\u001b[38;5;241m5\u001b[39m):\n\u001b[0;32m---> 23\u001b[0m     w, _, _ \u001b[38;5;241m=\u001b[39m \u001b[43mget_exact_eigenpair\u001b[49m\u001b[43m(\u001b[49m\u001b[43msolver_quadratic_P1_P0\u001b[49m\u001b[43m,\u001b[49m\u001b[43m \u001b[49m\u001b[43mn\u001b[49m\u001b[43m,\u001b[49m\u001b[43m \u001b[49m\u001b[43mQ_P1_P0\u001b[49m\u001b[43m,\u001b[49m\u001b[43m \u001b[49m\u001b[43mV_P1_P0\u001b[49m\u001b[43m)\u001b[49m\n\u001b[1;32m     24\u001b[0m     exact\u001b[38;5;241m.\u001b[39mappend(w)\n\u001b[1;32m     25\u001b[0m \u001b[38;5;28;01mfor\u001b[39;00m j \u001b[38;5;129;01min\u001b[39;00m np\u001b[38;5;241m.\u001b[39marange(\u001b[38;5;241m0\u001b[39m, \u001b[38;5;241m5\u001b[39m,\u001b[38;5;241m1\u001b[39m):\n\u001b[1;32m     26\u001b[0m     \u001b[38;5;66;03m# Get the approximated eigenpair\u001b[39;00m\n",
      "Cell \u001b[0;32mIn[370], line 24\u001b[0m, in \u001b[0;36mget_exact_eigenpair\u001b[0;34m(solver, selected_index, Q, V, sigma_i)\u001b[0m\n\u001b[1;32m     21\u001b[0m p_ex\u001b[38;5;241m.\u001b[39mx\u001b[38;5;241m.\u001b[39mpetsc_vec\u001b[38;5;241m.\u001b[39marray[:] \u001b[38;5;241m=\u001b[39m p_ex\u001b[38;5;241m.\u001b[39mx\u001b[38;5;241m.\u001b[39mpetsc_vec\u001b[38;5;241m.\u001b[39marray[:] \u001b[38;5;241m/\u001b[39m p_ex\u001b[38;5;241m.\u001b[39meval(np\u001b[38;5;241m.\u001b[39marray([Lx, \u001b[38;5;241m0.0\u001b[39m, \u001b[38;5;241m0.0\u001b[39m]), \u001b[38;5;241m1\u001b[39m)\n\u001b[1;32m     23\u001b[0m v_ex \u001b[38;5;241m=\u001b[39m Function(V, name\u001b[38;5;241m=\u001b[39m\u001b[38;5;124m\"\u001b[39m\u001b[38;5;124mv_ex\u001b[39m\u001b[38;5;124m\"\u001b[39m)\n\u001b[0;32m---> 24\u001b[0m \u001b[43mv_ex\u001b[49m\u001b[38;5;241;43m.\u001b[39;49m\u001b[43minterpolate\u001b[49m\u001b[43m(\u001b[49m\u001b[43mv\u001b[49m\u001b[43m)\u001b[49m\n\u001b[1;32m     25\u001b[0m \u001b[38;5;66;03m# v_ex.x.petsc_vec.array[:] = v_ex.x.petsc_vec.array[:] / v_ex.eval(np.array([Lx, 0.0, 0.0]), 1)\u001b[39;00m\n\u001b[1;32m     27\u001b[0m \u001b[38;5;28;01mreturn\u001b[39;00m [w, p_ex, v_ex]\n",
      "File \u001b[0;32m~/miniconda3/envs/cleaned-fenicsx/lib/python3.10/site-packages/dolfinx/fem/function.py:466\u001b[0m, in \u001b[0;36mFunction.interpolate\u001b[0;34m(self, u0, cells0, cells1)\u001b[0m\n\u001b[1;32m    462\u001b[0m \u001b[38;5;28;01massert\u001b[39;00m \u001b[38;5;28mcallable\u001b[39m(u0)\n\u001b[1;32m    463\u001b[0m x \u001b[38;5;241m=\u001b[39m _cpp\u001b[38;5;241m.\u001b[39mfem\u001b[38;5;241m.\u001b[39minterpolation_coords(\n\u001b[1;32m    464\u001b[0m     \u001b[38;5;28mself\u001b[39m\u001b[38;5;241m.\u001b[39m_V\u001b[38;5;241m.\u001b[39melement, \u001b[38;5;28mself\u001b[39m\u001b[38;5;241m.\u001b[39m_V\u001b[38;5;241m.\u001b[39mmesh\u001b[38;5;241m.\u001b[39mgeometry\u001b[38;5;241m.\u001b[39m_cpp_object, cells0\n\u001b[1;32m    465\u001b[0m )\n\u001b[0;32m--> 466\u001b[0m \u001b[38;5;28mself\u001b[39m\u001b[38;5;241m.\u001b[39m_cpp_object\u001b[38;5;241m.\u001b[39minterpolate(np\u001b[38;5;241m.\u001b[39masarray(\u001b[43mu0\u001b[49m\u001b[43m(\u001b[49m\u001b[43mx\u001b[49m\u001b[43m)\u001b[49m, dtype\u001b[38;5;241m=\u001b[39m\u001b[38;5;28mself\u001b[39m\u001b[38;5;241m.\u001b[39mdtype), cells0)\n",
      "Cell \u001b[0;32mIn[370], line 17\u001b[0m, in \u001b[0;36mget_exact_eigenpair.<locals>.<lambda>\u001b[0;34m(x)\u001b[0m\n\u001b[1;32m     14\u001b[0m v_1\u001b[38;5;241m=\u001b[39m\u001b[38;5;28;01mlambda\u001b[39;00m x: \u001b[38;5;241m1\u001b[39m\u001b[38;5;241m/\u001b[39m(\u001b[38;5;241m-\u001b[39m\u001b[38;5;241m1\u001b[39mj\u001b[38;5;241m*\u001b[39mw)\u001b[38;5;241m*\u001b[39m(w \u001b[38;5;241m/\u001b[39m vel_media_1) \u001b[38;5;241m*\u001b[39m np\u001b[38;5;241m.\u001b[39mcos(w \u001b[38;5;241m*\u001b[39m x[\u001b[38;5;241m0\u001b[39m] \u001b[38;5;241m/\u001b[39m vel_media_1)\n\u001b[1;32m     15\u001b[0m v_2 \u001b[38;5;241m=\u001b[39m (\u001b[38;5;28;01mlambda\u001b[39;00m x: \u001b[38;5;241m1\u001b[39m\u001b[38;5;241m/\u001b[39m(\u001b[38;5;241m-\u001b[39m\u001b[38;5;241m1\u001b[39mj\u001b[38;5;241m*\u001b[39mw\u001b[38;5;241m+\u001b[39msigma_x_function_cond(x)\u001b[38;5;241m*\u001b[39mrho_media_1)\u001b[38;5;241m*\u001b[39m \u001b[38;5;241m-\u001b[39mnp\u001b[38;5;241m.\u001b[39msin(\u001b[38;5;241m-\u001b[39mw \u001b[38;5;241m*\u001b[39m l_inner \u001b[38;5;241m/\u001b[39m vel_media_1) \u001b[38;5;241m*\u001b[39m(\u001b[38;5;241m1\u001b[39mj \u001b[38;5;241m*\u001b[39m w \u001b[38;5;241m/\u001b[39m vel_media_2)\n\u001b[1;32m     16\u001b[0m     \u001b[38;5;241m*\u001b[39m np\u001b[38;5;241m.\u001b[39mexp(\u001b[38;5;241m1\u001b[39mj \u001b[38;5;241m*\u001b[39m w \u001b[38;5;241m/\u001b[39m vel_media_2 \u001b[38;5;241m*\u001b[39m (x_hat(x,w) \u001b[38;5;241m-\u001b[39m l_inner))\u001b[38;5;241m*\u001b[39m gamma_x(x, w)[\u001b[38;5;241m0\u001b[39m])\n\u001b[0;32m---> 17\u001b[0m v \u001b[38;5;241m=\u001b[39m \u001b[38;5;28;01mlambda\u001b[39;00m x: np\u001b[38;5;241m.\u001b[39mwhere(x[\u001b[38;5;241m0\u001b[39m] \u001b[38;5;241m>\u001b[39m\u001b[38;5;241m=\u001b[39m l_inner, \u001b[43mv_2\u001b[49m\u001b[43m(\u001b[49m\u001b[43mx\u001b[49m\u001b[43m)\u001b[49m, v_1(x))\n\u001b[1;32m     19\u001b[0m p_ex \u001b[38;5;241m=\u001b[39m Function(Q, name\u001b[38;5;241m=\u001b[39m\u001b[38;5;124m\"\u001b[39m\u001b[38;5;124mp_ex\u001b[39m\u001b[38;5;124m\"\u001b[39m)\n\u001b[1;32m     20\u001b[0m p_ex\u001b[38;5;241m.\u001b[39minterpolate(p)\n",
      "Cell \u001b[0;32mIn[370], line 15\u001b[0m, in \u001b[0;36mget_exact_eigenpair.<locals>.<lambda>\u001b[0;34m(x)\u001b[0m\n\u001b[1;32m     12\u001b[0m sigma_x_function_cond\u001b[38;5;241m=\u001b[39m \u001b[38;5;28;01mlambda\u001b[39;00m x: np\u001b[38;5;241m.\u001b[39mwhere(x[\u001b[38;5;241m0\u001b[39m]\u001b[38;5;241m<\u001b[39m\u001b[38;5;241m=\u001b[39mLx, x[\u001b[38;5;241m0\u001b[39m]\u001b[38;5;241m*\u001b[39m\u001b[38;5;241m0.\u001b[39m, np\u001b[38;5;241m.\u001b[39mwhere(x[\u001b[38;5;241m0\u001b[39m] \u001b[38;5;241m==\u001b[39m Lx \u001b[38;5;241m+\u001b[39m pml_thickness, sigma_x(x), sigma_x(x)))\n\u001b[1;32m     14\u001b[0m v_1\u001b[38;5;241m=\u001b[39m\u001b[38;5;28;01mlambda\u001b[39;00m x: \u001b[38;5;241m1\u001b[39m\u001b[38;5;241m/\u001b[39m(\u001b[38;5;241m-\u001b[39m\u001b[38;5;241m1\u001b[39mj\u001b[38;5;241m*\u001b[39mw)\u001b[38;5;241m*\u001b[39m(w \u001b[38;5;241m/\u001b[39m vel_media_1) \u001b[38;5;241m*\u001b[39m np\u001b[38;5;241m.\u001b[39mcos(w \u001b[38;5;241m*\u001b[39m x[\u001b[38;5;241m0\u001b[39m] \u001b[38;5;241m/\u001b[39m vel_media_1)\n\u001b[0;32m---> 15\u001b[0m v_2 \u001b[38;5;241m=\u001b[39m (\u001b[38;5;28;01mlambda\u001b[39;00m x: \u001b[38;5;241m1\u001b[39m\u001b[38;5;241m/\u001b[39m(\u001b[38;5;241m-\u001b[39m\u001b[38;5;241m1\u001b[39mj\u001b[38;5;241m*\u001b[39mw\u001b[38;5;241m+\u001b[39m\u001b[43msigma_x_function_cond\u001b[49m\u001b[43m(\u001b[49m\u001b[43mx\u001b[49m\u001b[43m)\u001b[49m\u001b[38;5;241m*\u001b[39mrho_media_1)\u001b[38;5;241m*\u001b[39m \u001b[38;5;241m-\u001b[39mnp\u001b[38;5;241m.\u001b[39msin(\u001b[38;5;241m-\u001b[39mw \u001b[38;5;241m*\u001b[39m l_inner \u001b[38;5;241m/\u001b[39m vel_media_1) \u001b[38;5;241m*\u001b[39m(\u001b[38;5;241m1\u001b[39mj \u001b[38;5;241m*\u001b[39m w \u001b[38;5;241m/\u001b[39m vel_media_2)\n\u001b[1;32m     16\u001b[0m     \u001b[38;5;241m*\u001b[39m np\u001b[38;5;241m.\u001b[39mexp(\u001b[38;5;241m1\u001b[39mj \u001b[38;5;241m*\u001b[39m w \u001b[38;5;241m/\u001b[39m vel_media_2 \u001b[38;5;241m*\u001b[39m (x_hat(x,w) \u001b[38;5;241m-\u001b[39m l_inner))\u001b[38;5;241m*\u001b[39m gamma_x(x, w)[\u001b[38;5;241m0\u001b[39m])\n\u001b[1;32m     17\u001b[0m v \u001b[38;5;241m=\u001b[39m \u001b[38;5;28;01mlambda\u001b[39;00m x: np\u001b[38;5;241m.\u001b[39mwhere(x[\u001b[38;5;241m0\u001b[39m] \u001b[38;5;241m>\u001b[39m\u001b[38;5;241m=\u001b[39m l_inner, v_2(x), v_1(x))\n\u001b[1;32m     19\u001b[0m p_ex \u001b[38;5;241m=\u001b[39m Function(Q, name\u001b[38;5;241m=\u001b[39m\u001b[38;5;124m\"\u001b[39m\u001b[38;5;124mp_ex\u001b[39m\u001b[38;5;124m\"\u001b[39m)\n",
      "Cell \u001b[0;32mIn[370], line 12\u001b[0m, in \u001b[0;36mget_exact_eigenpair.<locals>.<lambda>\u001b[0;34m(x)\u001b[0m\n\u001b[1;32m     10\u001b[0m sigma_x \u001b[38;5;241m=\u001b[39m \u001b[38;5;28;01mlambda\u001b[39;00m x: np\u001b[38;5;241m.\u001b[39mwhere(x[\u001b[38;5;241m0\u001b[39m] \u001b[38;5;241m>\u001b[39m\u001b[38;5;241m=\u001b[39m Lx, x[\u001b[38;5;241m0\u001b[39m]\u001b[38;5;241m*\u001b[39m\u001b[38;5;241m0.0\u001b[39m) \u001b[38;5;66;03m#sigma_i * (np.abs(x[0]) - Lx) ** 3, 0)\u001b[39;00m\n\u001b[1;32m     11\u001b[0m \u001b[38;5;66;03m# sigma_x_function_cond= lambda x: np.where(x[0]<=Lx, x[0]*0., np.where(x[0] == Lx + pml_thickness, x[0]*0.0+1e10, sigma_x(x)))\u001b[39;00m\n\u001b[0;32m---> 12\u001b[0m sigma_x_function_cond\u001b[38;5;241m=\u001b[39m \u001b[38;5;28;01mlambda\u001b[39;00m x: np\u001b[38;5;241m.\u001b[39mwhere(x[\u001b[38;5;241m0\u001b[39m]\u001b[38;5;241m<\u001b[39m\u001b[38;5;241m=\u001b[39mLx, x[\u001b[38;5;241m0\u001b[39m]\u001b[38;5;241m*\u001b[39m\u001b[38;5;241m0.\u001b[39m, np\u001b[38;5;241m.\u001b[39mwhere(x[\u001b[38;5;241m0\u001b[39m] \u001b[38;5;241m==\u001b[39m Lx \u001b[38;5;241m+\u001b[39m pml_thickness, \u001b[43msigma_x\u001b[49m\u001b[43m(\u001b[49m\u001b[43mx\u001b[49m\u001b[43m)\u001b[49m, sigma_x(x)))\n\u001b[1;32m     14\u001b[0m v_1\u001b[38;5;241m=\u001b[39m\u001b[38;5;28;01mlambda\u001b[39;00m x: \u001b[38;5;241m1\u001b[39m\u001b[38;5;241m/\u001b[39m(\u001b[38;5;241m-\u001b[39m\u001b[38;5;241m1\u001b[39mj\u001b[38;5;241m*\u001b[39mw)\u001b[38;5;241m*\u001b[39m(w \u001b[38;5;241m/\u001b[39m vel_media_1) \u001b[38;5;241m*\u001b[39m np\u001b[38;5;241m.\u001b[39mcos(w \u001b[38;5;241m*\u001b[39m x[\u001b[38;5;241m0\u001b[39m] \u001b[38;5;241m/\u001b[39m vel_media_1)\n\u001b[1;32m     15\u001b[0m v_2 \u001b[38;5;241m=\u001b[39m (\u001b[38;5;28;01mlambda\u001b[39;00m x: \u001b[38;5;241m1\u001b[39m\u001b[38;5;241m/\u001b[39m(\u001b[38;5;241m-\u001b[39m\u001b[38;5;241m1\u001b[39mj\u001b[38;5;241m*\u001b[39mw\u001b[38;5;241m+\u001b[39msigma_x_function_cond(x)\u001b[38;5;241m*\u001b[39mrho_media_1)\u001b[38;5;241m*\u001b[39m \u001b[38;5;241m-\u001b[39mnp\u001b[38;5;241m.\u001b[39msin(\u001b[38;5;241m-\u001b[39mw \u001b[38;5;241m*\u001b[39m l_inner \u001b[38;5;241m/\u001b[39m vel_media_1) \u001b[38;5;241m*\u001b[39m(\u001b[38;5;241m1\u001b[39mj \u001b[38;5;241m*\u001b[39m w \u001b[38;5;241m/\u001b[39m vel_media_2)\n\u001b[1;32m     16\u001b[0m     \u001b[38;5;241m*\u001b[39m np\u001b[38;5;241m.\u001b[39mexp(\u001b[38;5;241m1\u001b[39mj \u001b[38;5;241m*\u001b[39m w \u001b[38;5;241m/\u001b[39m vel_media_2 \u001b[38;5;241m*\u001b[39m (x_hat(x,w) \u001b[38;5;241m-\u001b[39m l_inner))\u001b[38;5;241m*\u001b[39m gamma_x(x, w)[\u001b[38;5;241m0\u001b[39m])\n",
      "Cell \u001b[0;32mIn[370], line 10\u001b[0m, in \u001b[0;36mget_exact_eigenpair.<locals>.<lambda>\u001b[0;34m(x)\u001b[0m\n\u001b[1;32m      7\u001b[0m p_2 \u001b[38;5;241m=\u001b[39m \u001b[38;5;28;01mlambda\u001b[39;00m x: \u001b[38;5;241m-\u001b[39mnp\u001b[38;5;241m.\u001b[39msin(w \u001b[38;5;241m*\u001b[39m l_inner \u001b[38;5;241m/\u001b[39m vel_media_1) \u001b[38;5;241m*\u001b[39m np\u001b[38;5;241m.\u001b[39mexp(\u001b[38;5;241m1\u001b[39mj \u001b[38;5;241m*\u001b[39m w \u001b[38;5;241m/\u001b[39m vel_media_2 \u001b[38;5;241m*\u001b[39m (x_hat(x,w) \u001b[38;5;241m-\u001b[39m l_inner))\n\u001b[1;32m      8\u001b[0m p \u001b[38;5;241m=\u001b[39m \u001b[38;5;28;01mlambda\u001b[39;00m x: np\u001b[38;5;241m.\u001b[39mwhere(x[\u001b[38;5;241m0\u001b[39m] \u001b[38;5;241m==\u001b[39m Lx \u001b[38;5;241m+\u001b[39m pml_thickness, \u001b[38;5;241m0\u001b[39m, np\u001b[38;5;241m.\u001b[39mwhere(x[\u001b[38;5;241m0\u001b[39m] \u001b[38;5;241m>\u001b[39m\u001b[38;5;241m=\u001b[39m l_inner, p_2(x), p_1(x)))\n\u001b[0;32m---> 10\u001b[0m sigma_x \u001b[38;5;241m=\u001b[39m \u001b[38;5;28;01mlambda\u001b[39;00m x: \u001b[43mnp\u001b[49m\u001b[38;5;241;43m.\u001b[39;49m\u001b[43mwhere\u001b[49m\u001b[43m(\u001b[49m\u001b[43mx\u001b[49m\u001b[43m[\u001b[49m\u001b[38;5;241;43m0\u001b[39;49m\u001b[43m]\u001b[49m\u001b[43m \u001b[49m\u001b[38;5;241;43m>\u001b[39;49m\u001b[38;5;241;43m=\u001b[39;49m\u001b[43m \u001b[49m\u001b[43mLx\u001b[49m\u001b[43m,\u001b[49m\u001b[43m \u001b[49m\u001b[43mx\u001b[49m\u001b[43m[\u001b[49m\u001b[38;5;241;43m0\u001b[39;49m\u001b[43m]\u001b[49m\u001b[38;5;241;43m*\u001b[39;49m\u001b[38;5;241;43m0.0\u001b[39;49m\u001b[43m)\u001b[49m \u001b[38;5;66;03m#sigma_i * (np.abs(x[0]) - Lx) ** 3, 0)\u001b[39;00m\n\u001b[1;32m     11\u001b[0m \u001b[38;5;66;03m# sigma_x_function_cond= lambda x: np.where(x[0]<=Lx, x[0]*0., np.where(x[0] == Lx + pml_thickness, x[0]*0.0+1e10, sigma_x(x)))\u001b[39;00m\n\u001b[1;32m     12\u001b[0m sigma_x_function_cond\u001b[38;5;241m=\u001b[39m \u001b[38;5;28;01mlambda\u001b[39;00m x: np\u001b[38;5;241m.\u001b[39mwhere(x[\u001b[38;5;241m0\u001b[39m]\u001b[38;5;241m<\u001b[39m\u001b[38;5;241m=\u001b[39mLx, x[\u001b[38;5;241m0\u001b[39m]\u001b[38;5;241m*\u001b[39m\u001b[38;5;241m0.\u001b[39m, np\u001b[38;5;241m.\u001b[39mwhere(x[\u001b[38;5;241m0\u001b[39m] \u001b[38;5;241m==\u001b[39m Lx \u001b[38;5;241m+\u001b[39m pml_thickness, sigma_x(x), sigma_x(x)))\n",
      "\u001b[0;31mValueError\u001b[0m: either both or neither of x and y should be given"
     ]
    }
   ],
   "source": [
    "\n",
    "# Initialize lists to store the approximated eigenpairs\n",
    "approx_quadratic_P1_P0 = [[0 for _ in range(5)] for _ in range(len(sigma_sweep_quadratic))]\n",
    "approx_quadratic_P2_P1 = [[0 for _ in range(5)] for _ in range(len(sigma_sweep_quadratic))]\n",
    "approx_quadratic_P3_P2 = [[0 for _ in range(5)] for _ in range(len(sigma_sweep_quadratic))]\n",
    "approx_quadratic_P4_P3 = [[0 for _ in range(5)] for _ in range(len(sigma_sweep_quadratic))]\n",
    "\n",
    "for i,sigma_i in enumerate(sigma_sweep_quadratic):\n",
    "    # Create mesh depending on h\n",
    "    mesh = create_interval(MPI.COMM_WORLD, int((Lx + pml_thickness )/ h), [0, Lx + pml_thickness])\n",
    "    #Redefines sigma for quadratic profile depending on sigma_i value\n",
    "    # Define quadratic sigma function\n",
    "    sigma_x_quadratic=lambda x: conditional(x[0] > Lx, sigma_i*(x[0]-Lx)**2, 0.0)\n",
    "    # Define solver for quadratic PML\n",
    "    [solver_quadratic_P1_P0, mesh, Q_P1_P0, V_P1_P0, dof_P1_P0]=get_configured_problem(mesh, [1,0], sigma_x_quadratic)\n",
    "    [solver_quadratic_P2_P1, mesh, Q_P2_P1, V_P2_P1, dof_P2_P1]=get_configured_problem(mesh, [2,1], sigma_x_quadratic)\n",
    "    [solver_quadratic_P3_P2, mesh, Q_P3_P2, V_P3_P2, dof_P3_P2]=get_configured_problem(mesh, [3,2], sigma_x_quadratic)\n",
    "    [solver_quadratic_P4_P3, mesh, Q_P4_P3, V_P4_P3, dof_P4_P3]=get_configured_problem(mesh, [4,3], sigma_x_quadratic)\n",
    "\n",
    "\n",
    "    # Get the exact eigenpair for the current sigma_i\n",
    "    exact = []\n",
    "    for n in range(5):\n",
    "        w, _, _ = get_exact_eigenpair(solver_quadratic_P1_P0, n, Q_P1_P0, V_P1_P0)\n",
    "        exact.append(w)\n",
    "    for j in np.arange(0, 5,1):\n",
    "        # Get the approximated eigenpair\n",
    "        approx_quadratic_P1_P0[i][j] = get_approx_eigenpair(solver_quadratic_P1_P0, j, Q_P1_P0, V_P1_P0, dof_P1_P0, exact[j])[0]\n",
    "        approx_quadratic_P2_P1[i][j] = get_approx_eigenpair(solver_quadratic_P2_P1, j, Q_P2_P1, V_P2_P1, dof_P2_P1, exact[j])[0]\n",
    "        approx_quadratic_P3_P2[i][j] = get_approx_eigenpair(solver_quadratic_P3_P2, j, Q_P3_P2, V_P3_P2, dof_P3_P2, exact[j])[0]\n",
    "        approx_quadratic_P4_P3[i][j] = get_approx_eigenpair(solver_quadratic_P4_P3, j, Q_P4_P3, V_P4_P3, dof_P4_P3, exact[j])[0]\n",
    "\n",
    "# Ordenar cada fila de la lista\n",
    "for i in range(len(approx_quadratic_P1_P0)):\n",
    "    approx_quadratic_P1_P0[i] = sorted(approx_quadratic_P1_P0[i], key=lambda x: x.real)\n",
    "    approx_quadratic_P2_P1[i] = sorted(approx_quadratic_P2_P1[i], key=lambda x: x.real)\n",
    "    approx_quadratic_P3_P2[i] = sorted(approx_quadratic_P3_P2[i], key=lambda x: x.real)\n",
    "    approx_quadratic_P4_P3[i] = sorted(approx_quadratic_P4_P3[i], key=lambda x: x.real)\n"
   ]
  },
  {
   "cell_type": "code",
   "execution_count": null,
   "metadata": {},
   "outputs": [],
   "source": [
    "exact = []\n",
    "exact_p=[]\n",
    "exact_v = []\n",
    "# Get the exact eigenpairs for the first 5 eigenvalues\n",
    "for n in range(5):\n",
    "    w, p, v = get_exact_eigenpair(solver_quadratic_P1_P0, n, Q_P1_P0, V_P1_P0)\n",
    "    exact.append(w)\n",
    "    exact_p.append(p)\n",
    "    exact_v.append(v)"
   ]
  },
  {
   "cell_type": "code",
   "execution_count": null,
   "metadata": {},
   "outputs": [],
   "source": [
    "def group_by_real_part(eigenvalues, tolerance=1):\n",
    "    groups = []\n",
    "    for row in eigenvalues:\n",
    "        for eig in row:\n",
    "            added = False\n",
    "            for group in groups:\n",
    "                if abs(group[0].real - eig.real) < tolerance:\n",
    "                    group.append(eig)\n",
    "                    added = True\n",
    "                    break\n",
    "            if not added:\n",
    "                groups.append([eig])\n",
    "    return groups\n",
    "\n",
    "groups_P1_P0 = group_by_real_part(approx_quadratic_P1_P0)\n",
    "groups_P2_P1 = group_by_real_part(approx_quadratic_P2_P1)\n",
    "groups_P3_P2 = group_by_real_part(approx_quadratic_P3_P2)\n",
    "groups_P4_P3 = group_by_real_part(approx_quadratic_P4_P3)"
   ]
  },
  {
   "cell_type": "code",
   "execution_count": null,
   "metadata": {},
   "outputs": [],
   "source": [
    "# Calculate relative error for each eigenvalue\n",
    "rel_error_eig_0_P1_P0=abs((groups_P1_P0[0] - exact[0])) / np.abs(exact[0]) \n",
    "rel_error_eig_1_P1_P0=abs((groups_P1_P0[1] - exact[1])) / np.abs(exact[1]) \n",
    "rel_error_eig_2_P1_P0=abs((groups_P1_P0[2] - exact[2])) / np.abs(exact[2]) \n",
    "rel_error_eig_3_P1_P0=abs((groups_P1_P0[3] - exact[3])) / np.abs(exact[3]) \n",
    "\n",
    "rel_error_eig_0_P2_P1=abs((groups_P2_P1[0] - exact[0])) / np.abs(exact[0]) \n",
    "rel_error_eig_1_P2_P1=abs((groups_P2_P1[1] - exact[1])) / np.abs(exact[1]) \n",
    "rel_error_eig_2_P2_P1=abs((groups_P2_P1[2] - exact[2])) / np.abs(exact[2]) \n",
    "rel_error_eig_3_P2_P1=abs((groups_P2_P1[3] - exact[3])) / np.abs(exact[3]) \n",
    "\n",
    "rel_error_eig_0_P3_P2=abs((groups_P3_P2[0] - exact[0])) / np.abs(exact[0]) \n",
    "rel_error_eig_1_P3_P2=abs((groups_P3_P2[1] - exact[1])) / np.abs(exact[1]) \n",
    "rel_error_eig_2_P3_P2=abs((groups_P3_P2[2] - exact[2])) / np.abs(exact[2]) \n",
    "rel_error_eig_3_P3_P2=abs((groups_P3_P2[3] - exact[3])) / np.abs(exact[3]) \n",
    "\n",
    "rel_error_eig_0_P4_P2=abs((groups_P4_P3[0] - exact[0])) / np.abs(exact[0]) \n",
    "rel_error_eig_1_P4_P2=abs((groups_P4_P3[1] - exact[1])) / np.abs(exact[1]) \n",
    "rel_error_eig_2_P4_P2=abs((groups_P4_P3[2] - exact[2])) / np.abs(exact[2]) \n",
    "rel_error_eig_3_P4_P2=abs((groups_P4_P3[3] - exact[3])) / np.abs(exact[3]) "
   ]
  },
  {
   "cell_type": "code",
   "execution_count": null,
   "metadata": {},
   "outputs": [
    {
     "name": "stdout",
     "output_type": "stream",
     "text": [
      "Aviso: o índice 4 non é o máis próximo ao valor exacto.\n",
      "O máis próximo é o índice 2 con valor (10.231381248078172-0.7803583651764205j)\n"
     ]
    },
    {
     "data": {
      "text/plain": [
       "np.float64(1.1659280826783105)"
      ]
     },
     "execution_count": 347,
     "metadata": {},
     "output_type": "execute_result"
    }
   ],
   "source": [
    "# Xa veñen os dous autovectores normalizados\n",
    "p_approx=get_approx_eigenpair(solver_quadratic_P1_P0, j, Q_P1_P0, V_P1_P0, dof_P1_P0, exact[1])[1]\n",
    "np.linalg.norm(p_approx.x.petsc_vec.array[:] - exact_p[1].x.petsc_vec.array[:]) / n\n",
    "\n",
    "np.linalg.norm(exact_p[1].x.petsc_vec.array[:])"
   ]
  },
  {
   "cell_type": "code",
   "execution_count": null,
   "metadata": {},
   "outputs": [
    {
     "data": {
      "text/plain": [
       "(81, 81)"
      ]
     },
     "execution_count": 348,
     "metadata": {},
     "output_type": "execute_result"
    }
   ],
   "source": [
    "len(exact_p[0].x.petsc_vec.array[:]), len(p_approx.x.petsc_vec.array[:])"
   ]
  },
  {
   "cell_type": "code",
   "execution_count": null,
   "metadata": {},
   "outputs": [
    {
     "data": {
      "text/plain": [
       "[<matplotlib.lines.Line2D at 0x7f27b5ebe5c0>]"
      ]
     },
     "execution_count": 353,
     "metadata": {},
     "output_type": "execute_result"
    },
    {
     "data": {
      "image/png": "[encoded data removed]",
      "text/plain": [
       "<Figure size 640x480 with 1 Axes>"
      ]
     },
     "metadata": {},
     "output_type": "display_data"
    }
   ],
   "source": [
    "plt.plot(p_approx.x.petsc_vec.array[:])\n",
    "plt.plot(exact_p[1].x.petsc_vec.array[:])"
   ]
  },
  {
   "cell_type": "code",
   "execution_count": null,
   "metadata": {},
   "outputs": [
    {
     "data": {
      "image/png": "[encoded data removed]",
      "text/plain": [
       "<Figure size 640x480 with 1 Axes>"
      ]
     },
     "metadata": {},
     "output_type": "display_data"
    }
   ],
   "source": [
    "plt.plot(sigma_sweep_quadratic,rel_error_eig_0_P1_P0)\n",
    "plt.plot(sigma_sweep_quadratic[np.argmin(rel_error_eig_0_P1_P0)], rel_error_eig_0_P1_P0[np.argmin(rel_error_eig_0_P1_P0)], '*', label='P1-P0, $\\sigma_0='+str(sigma_sweep_quadratic[np.argmin(rel_error_eig_0_P1_P0)])+'$')\n",
    "# plt.plot(sigma_sweep_quadratic,rel_error_eig_0_P2_P1)\n",
    "# plt.plot(sigma_sweep_quadratic[np.argmin(rel_error_eig_0_P2_P1)], rel_error_eig_0_P2_P1[np.argmin(rel_error_eig_0_P2_P1)], '*', label='P2-P1, $\\sigma_0='+str(sigma_sweep_quadratic[np.argmin(rel_error_eig_0_P2_P1)])+'$')\n",
    "\n",
    "plt.xlabel('$\\sigma_0$')\n",
    "plt.ylabel('$\\epsilon_r$')\n",
    "plt.grid(True)\n",
    "_=plt.legend()"
   ]
  }
 ],
 "metadata": {
  "kernelspec": {
   "display_name": "cleaned-fenicsx",
   "language": "python",
   "name": "python3"
  },
  "language_info": {
   "codemirror_mode": {
    "name": "ipython",
    "version": 3
   },
   "file_extension": ".py",
   "mimetype": "text/x-python",
   "name": "python",
   "nbconvert_exporter": "python",
   "pygments_lexer": "ipython3",
   "version": "3.10.16"
  },
  "orig_nbformat": 4
 },
 "nbformat": 4,
 "nbformat_minor": 2
}

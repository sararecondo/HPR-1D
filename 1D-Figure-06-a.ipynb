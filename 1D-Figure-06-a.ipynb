{
 "cells": [
  {
   "cell_type": "markdown",
   "metadata": {},
   "source": [
    "Bilayer unit domain. Sigma optimisation"
   ]
  },
  {
   "cell_type": "code",
   "execution_count": 10,
   "metadata": {},
   "outputs": [],
   "source": [
    "# Importing libraries\n",
    "import matplotlib.pyplot as plt\n",
    "from matplotlib import ticker\n",
    "import numpy as np\n",
    "from mpi4py import MPI\n",
    "from ufl import (\n",
    "    inner,\n",
    "    grad,\n",
    "    conj,\n",
    "    TrialFunction,\n",
    "    TestFunction,\n",
    "    as_matrix,\n",
    "    as_vector,\n",
    "    dot,\n",
    "    Or,\n",
    "    Measure,\n",
    "    conditional,\n",
    "    SpatialCoordinate,\n",
    ")\n",
    "from dolfinx.mesh import locate_entities_boundary, create_interval, locate_entities, create_submesh\n",
    "from dolfinx.fem import FunctionSpace, Function, functionspace, Function, dirichletbc, locate_dofs_topological, petsc, form, assemble_matrix\n",
    "import basix\n",
    "from petsc4py.PETSc import ScalarType\n",
    "from slepc4py.SLEPc import EPS  \n",
    "colors_list = [\"blue\", \"green\", \"red\", \"magenta\", \"black\", \"purple\", \"orange\", \"brown\", \"pink\"]\n"
   ]
  },
  {
   "cell_type": "markdown",
   "metadata": {},
   "source": [
    "Domain, PML, refinement and physical configurations"
   ]
  },
  {
   "cell_type": "code",
   "execution_count": 11,
   "metadata": {},
   "outputs": [],
   "source": [
    "# Define element size for the mesh refinement\n",
    "h_i = [0.125,\n",
    "    0.0625,\n",
    "    0.0625 / 2,\n",
    "    0.0625 / 4,\n",
    "    0.0625 / 8]\n",
    "\n",
    "# Domain configuration\n",
    "Lx = 1. # fluid domain length (without PML)\n",
    "l_inner=Lx/2\n",
    "\n",
    "# Physical configuration\n",
    "rho_media_1 = 1. # kg/m^3 \n",
    "vel_media_1 = 1.   # m/s\n",
    "rho_media_2 = 1. # kg/m^3 \n",
    "vel_media_2 = 2.   # m/s\n",
    "\n",
    "\n",
    "# Define the density and velocity functions  \n",
    "def rho_function(x):    \n",
    "    return np.where(x[0] > l_inner, rho_media_2,rho_media_1)\n",
    "\n",
    "def vel_function(x):    \n",
    "    return np.where(x[0] > l_inner, vel_media_2,vel_media_1)\n",
    "\n",
    "# PML configuration\n",
    "pml_thickness = Lx/4\n",
    "sigma_0 = 1 #0.484375\n",
    "\n",
    "# Solver configuration\n",
    "\n",
    "requested_eigenvalues_number = 50 # Number of eigenvalues to compute"
   ]
  },
  {
   "cell_type": "markdown",
   "metadata": {},
   "source": [
    "Solver configuration and computing"
   ]
  },
  {
   "cell_type": "code",
   "execution_count": 12,
   "metadata": {},
   "outputs": [],
   "source": [
    "def get_configured_problem(mesh, degrees, sigma_x):\n",
    "    # Initialize dictionaries\n",
    "    dof = {}\n",
    "    solver_dict={}\n",
    "    V_dict={}\n",
    "    Q_dict={}\n",
    "\n",
    "    # Define finite element spaces\n",
    "    p_fe_type = basix.ufl.element(family=\"Lagrange\", cell=mesh.basix_cell(), degree=degrees[0])\n",
    "    v_fe_type = basix.ufl.element(family=\"DG\", cell=mesh.basix_cell(), degree=degrees[1], shape=(mesh.geometry.dim,))\n",
    "    FE = {\"p\": p_fe_type, \"v\": v_fe_type}\n",
    "\n",
    "    # Create a submesh of PML associated cells\n",
    "    tdim = mesh.topology.dim\n",
    "\n",
    "    # Identify the fluid cells\n",
    "    # fluid_cells = locate_entities(mesh, tdim, lambda x: x[0] <= Lx)\n",
    "\n",
    "    # Create function spaces for mesh and submesh\n",
    "    Q = functionspace(mesh,FE[\"p\"])\n",
    "    V = functionspace(mesh, FE[\"v\"])\n",
    "\n",
    "    # Dictionaries to store the number of dofs\n",
    "    dof[\"p\"] = Q.dofmap.index_map.size_global\n",
    "    dof[\"v\"] = V.dofmap.index_map.size_global\n",
    "\n",
    "    # Boundary conditions application (for pressure)\n",
    "    bc = []\n",
    "    facets = locate_entities_boundary(mesh, 0, lambda x: np.isclose(x[0], 0.0))\n",
    "    o_boundary_dofs = locate_dofs_topological(Q, 0, facets)  # the dimension is related to mesh entity where dofs are located\n",
    "\n",
    "    # Setting to zero located dofs related to boundaries\n",
    "    u_d = Function(Q)\n",
    "    u_d.x.array[:] = 0.0  # Asign Dirichlet condition value\n",
    "    bc.append(dirichletbc(u_d, o_boundary_dofs)) \n",
    "    \n",
    "    facets = locate_entities_boundary(mesh, 0, lambda x: np.isclose(x[0], Lx+pml_thickness))\n",
    "    o_boundary_dofs = locate_dofs_topological(Q, 0, facets)  # the dimension is related to mesh entity where dofs are located\n",
    "\n",
    "    # Setting to zero located dofs related to boundaries\n",
    "    u_d = Function(Q)\n",
    "    u_d.x.array[:] = 0.0  # Asign Dirichlet condition value\n",
    "    bc.append(dirichletbc(u_d, o_boundary_dofs)) \n",
    "\n",
    "    # Define differential operators\n",
    "    dx = Measure(\"dx\", domain=mesh)\n",
    "\n",
    "    # Interpolates the density and velocity functions\n",
    "    W = functionspace(mesh, (\"DG\", 2))\n",
    "    rho = Function(W)\n",
    "    rho.interpolate(rho_function)\n",
    "    c = Function(W)\n",
    "    c.interpolate(vel_function)\n",
    "\n",
    "    # Spatial Coordinate is updated for the actual mesh\n",
    "    x = SpatialCoordinate(mesh)\n",
    "\n",
    "    # Variation formulation definition\n",
    "    p = TrialFunction(Q) \n",
    "    v = TrialFunction(V)\n",
    "    q = TestFunction(Q)\n",
    "    w = TestFunction(V)\n",
    "\n",
    "    # Define the variational forms\n",
    "    a = form(\n",
    "        [\n",
    "            [sigma_x(x) / (rho * c**2) * p * conj(q) * dx, -1 * inner(v, grad(q)) * dx],\n",
    "            [inner(grad(p), w) * dx, sigma_x(x) * rho * inner(v, w) * dx],\n",
    "        ]\n",
    "    )\n",
    "    b = form(\n",
    "        [\n",
    "            [1.0 / (rho * c**2) * p * conj(q) * dx, None],\n",
    "            [None, rho * inner(v, w) * dx],\n",
    "        ]  \n",
    "    )\n",
    "    # Assemble matrices\n",
    "    A = petsc.assemble_matrix_block(a, bcs=bc)\n",
    "    A.assemble()\n",
    "    B = petsc.assemble_matrix_block(b, bcs=bc)\n",
    "    B.assemble()\n",
    "\n",
    "    # SLEPc solver configuration for linear eigenvalue problem (A x =\\lambda x B)\n",
    "    solver = EPS().create()\n",
    "    solver.setOperators(-A, B)\n",
    "    solver.setType(\"arnoldi\")\n",
    "    solver.setWhichEigenpairs(9)  # TARGET_IMAGINARY = 9, TARGET_MAGNITUDE = 7, TARGET_REAL = 8\n",
    "    solver.setDimensions(\n",
    "        requested_eigenvalues_number,\n",
    "        4 * requested_eigenvalues_number,\n",
    "        4 * requested_eigenvalues_number,\n",
    "    )\n",
    "    solver.setTolerances(1e-7, 100)\n",
    "    st = solver.getST()\n",
    "    st.setType(\"sinvert\")  # Applying spectral transformation \"shift and invert\" \n",
    "    solver.setTarget(-2.5j)  \n",
    "    solver.solve()\n",
    "    n_eigs_converged_quadratic = solver.getConverged()\n",
    "\n",
    "    return solver, mesh, Q, V, dof"
   ]
  },
  {
   "cell_type": "markdown",
   "metadata": {},
   "source": [
    "Approx eigenvalues calculation"
   ]
  },
  {
   "cell_type": "code",
   "execution_count": 13,
   "metadata": {},
   "outputs": [],
   "source": [
    "def get_approx_eigenpair(solver, selected_index, Q, V, dof):\n",
    "    # Gets p, v eigenvectors\n",
    "    p_h = Function(Q, name=\"p\")\n",
    "    v_h = Function(V, name=\"v\")\n",
    "    dof[\"p\"] = Q.dofmap.index_map.size_global\n",
    "    dof[\"v\"] = V.dofmap.index_map.size_global\n",
    "    [vrA, viA] = solver.getOperators()[0].getVecs()  # type: ignore\n",
    "\n",
    "    # Filtrar eigenvalores con parte real mayor que 1e-12\n",
    "    eigenvalues = []\n",
    "    for i in range(solver.getConverged()):\n",
    "        omega_value = solver.getEigenpair(i, vrA) * (1j)  # type: ignore\n",
    "        if omega_value.real > 1e-12:\n",
    "            eigenvalues.append((omega_value, vrA.copy()))\n",
    "\n",
    "    # Seleccionar el n-ésimo eigenvalor filtrado\n",
    "    omega_value, vrA = eigenvalues[selected_index]\n",
    "\n",
    "    # FEM approximation for the eigenfunction\n",
    "    p_h.x.petsc_vec.array[:] = vrA[0 : dof[\"p\"]]\n",
    "    p_h.x.petsc_vec.array[:] = p_h.x.petsc_vec.array[:] / p_h.eval([Lx, 0.0, 0.0], 1)  # normalise\n",
    "    v_h.x.petsc_vec.array[:] = vrA[dof[\"p\"] :]  \n",
    "    v_h.x.petsc_vec.array[:] = v_h.x.petsc_vec.array[:] / v_h.eval([Lx, 0.0, 0.0], 1)  # normalise\n",
    "\n",
    "    return [omega_value, p_h, v_h]  # Return eigenfunction and eigenvalue"
   ]
  },
  {
   "cell_type": "code",
   "execution_count": null,
   "metadata": {},
   "outputs": [],
   "source": [
    "def get_exact_eigenpair(solver, selected_index, Q, V):\n",
    "    exact_physical_eigs_function= lambda n: vel_media_1 / l_inner * np.arctan(-1j * (vel_media_2 * rho_media_2) / (vel_media_1 * rho_media_1))+ n * np.pi * vel_media_1 / l_inner\n",
    "    w=exact_physical_eigs_function(selected_index)\n",
    "\n",
    "    p_1 = lambda x: np.sin(w * x[0] / vel_media_1)\n",
    "    p_2 = lambda x: -np.sin(-w * l_inner / vel_media_1) * np.exp(1j * w / vel_media_2 * (x_hat(x,w) - l_inner))\n",
    "    p = lambda x: np.where(x[0] == Lx + pml_thickness, 0, np.where(x[0] >= l_inner, p_2(x), p_1(x)))\n",
    "\n",
    "    sigma_x = lambda x: np.where(x[0] >= l_inner, sigma_0, 0)\n",
    "    sigma_x_function_cond= lambda x: np.where(x[0]<=Lx, x[0]*0., np.where(x[0] == Lx + pml_thickness, x[0]*0.0+1e10, sigma_x(x)))\n",
    "    v_1=lambda x: 1/(-1j*w)*(w / vel_media_1) * np.cos(w * x[0] / vel_media_1)\n",
    "    v_2 = (lambda x: 1/(-1j*w+sigma_x_function_cond(x)*rho_media_1)* -np.sin(-w * l_inner / vel_media_1) *(1j * w / vel_media_2)\n",
    "        * np.exp(1j * w / vel_media_2 * (x_hat(x,w) - l_inner))* gamma_x(x, w)[0])\n",
    "    v = lambda x: np.where(x[0] >= l_inner, v_2(x), v_1(x))\n",
    "\n",
    "    p_ex = Function(Q, name=\"p_ex\")\n",
    "    p_ex.interpolate(p)\n",
    "    p_ex.x.petsc_vec.array[:] = p_ex.x.petsc_vec.array[:] / p_ex.eval(np.array([Lx, 0.0, 0.0]), 1)\n",
    "\n",
    "    v_ex = Function(V, name=\"v_ex\")\n",
    "    v_ex.interpolate(v)\n",
    "    v_ex.x.petsc_vec.array[:] = v_ex.x.petsc_vec.array[:] / v_ex.eval(np.array([Lx, 0.0, 0.0]), 1)\n",
    "\n",
    "    return [w, p_ex, v_ex]"
   ]
  },
  {
   "cell_type": "markdown",
   "metadata": {},
   "source": [
    "quadratic"
   ]
  },
  {
   "cell_type": "code",
   "execution_count": 15,
   "metadata": {},
   "outputs": [],
   "source": [
    "degree=[1,0]"
   ]
  },
  {
   "cell_type": "code",
   "execution_count": 16,
   "metadata": {},
   "outputs": [],
   "source": [
    "# Define quadratic sigma function\n",
    "sigma_x_piecewise=lambda x: conditional(x[0] > l_inner, sigma_0, 0.0)\n",
    "sigma_x_quadratic=lambda x: conditional(x[0] > Lx, sigma_0*(x[0]-Lx)**2, 0.0)\n",
    "sigma_x_singular=lambda x: conditional(x[0] > Lx, sigma_0/(Lx+pml_thickness-x[0]), 0.0)\n",
    "\n",
    "# Initialize lists to store the approximated eigenpairs\n",
    "approx_piecewise = [[0 for _ in range(5)] for _ in range(len(h_i))]\n",
    "approx_quadratic = [[0 for _ in range(5)] for _ in range(len(h_i))]\n",
    "approx_singular = [[0 for _ in range(5)] for _ in range(len(h_i))]\n",
    "\n",
    "for i,h in enumerate(h_i):\n",
    "    # Create mesh depending on h\n",
    "    mesh = create_interval(MPI.COMM_WORLD, int((Lx + pml_thickness )/ h), [0, Lx + pml_thickness])\n",
    "    # Define solver for quadratic PML\n",
    "    [solver_piecewise, mesh, Q_, V_, dof_]=get_configured_problem(mesh, degree, sigma_x_piecewise)\n",
    "    [solver_quadratic, mesh, Q_, V_, dof_]=get_configured_problem(mesh, degree, sigma_x_quadratic)\n",
    "    [solver_singular, mesh, Q_, V_, dof_]=get_configured_problem(mesh, degree, sigma_x_singular)\n",
    "\n",
    "    for j in np.arange(0, 5,1):\n",
    "        # Get the approximated eigenpair\n",
    "        approx_piecewise[i][j] = get_approx_eigenpair(solver_piecewise, j, Q_, V_, dof_)[0]\n",
    "        approx_quadratic[i][j] = get_approx_eigenpair(solver_quadratic, j, Q_, V_, dof_)[0]\n",
    "        approx_singular[i][j] = get_approx_eigenpair(solver_singular, j, Q_, V_, dof_)[0]\n",
    "\n",
    "# Ordenar cada fila de la lista\n",
    "for i in range(len(approx_piecewise)):\n",
    "    approx_piecewise[i] = sorted(approx_piecewise[i], key=lambda x: x.real)\n",
    "    approx_quadratic[i] = sorted(approx_quadratic[i], key=lambda x: x.real)\n",
    "    approx_singular[i] = sorted(approx_singular[i], key=lambda x: x.real)\n"
   ]
  },
  {
   "cell_type": "code",
   "execution_count": 17,
   "metadata": {},
   "outputs": [],
   "source": [
    "sigma_quadratic_absorption=(Lx+pml_thickness)**3/3-Lx*(Lx+pml_thickness)**2+Lx**2*(Lx+pml_thickness)-sigma_0*Lx**3/3\n",
    "sigma_piecewise_absorption=sigma_0*pml_thickness\n",
    "sigma_singular_absorption=1e40"
   ]
  },
  {
   "cell_type": "code",
   "execution_count": 18,
   "metadata": {},
   "outputs": [],
   "source": [
    "def group_by_real_part(eigenvalues, tolerance=1):\n",
    "    groups = []\n",
    "    for row in eigenvalues:\n",
    "        for eig in row:\n",
    "            added = False\n",
    "            for group in groups:\n",
    "                if abs(group[0].real - eig.real) < tolerance:\n",
    "                    group.append(eig)\n",
    "                    added = True\n",
    "                    break\n",
    "            if not added:\n",
    "                groups.append([eig])\n",
    "    return groups\n",
    "\n",
    "groups_piecewise = group_by_real_part(approx_piecewise)\n",
    "groups_quadratic = group_by_real_part(approx_quadratic)\n",
    "groups_singular = group_by_real_part(approx_singular)"
   ]
  },
  {
   "cell_type": "code",
   "execution_count": 21,
   "metadata": {},
   "outputs": [
    {
     "ename": "NameError",
     "evalue": "name 'FE' is not defined",
     "output_type": "error",
     "traceback": [
      "\u001b[0;31m---------------------------------------------------------------------------\u001b[0m",
      "\u001b[0;31mNameError\u001b[0m                                 Traceback (most recent call last)",
      "Cell \u001b[0;32mIn[21], line 3\u001b[0m\n\u001b[1;32m      1\u001b[0m exact_omega \u001b[38;5;241m=\u001b[39m [\u001b[38;5;28;01mNone\u001b[39;00m] \u001b[38;5;241m*\u001b[39m \u001b[38;5;241m5\u001b[39m \n\u001b[1;32m      2\u001b[0m \u001b[38;5;28;01mfor\u001b[39;00m j \u001b[38;5;129;01min\u001b[39;00m np\u001b[38;5;241m.\u001b[39marange(\u001b[38;5;241m0\u001b[39m, \u001b[38;5;241m5\u001b[39m,\u001b[38;5;241m1\u001b[39m):\n\u001b[0;32m----> 3\u001b[0m     exact_omega[j] \u001b[38;5;241m=\u001b[39m \u001b[43mget_exact_eigenpair\u001b[49m\u001b[43m(\u001b[49m\u001b[43msolver_piecewise\u001b[49m\u001b[43m,\u001b[49m\u001b[43m \u001b[49m\u001b[43mj\u001b[49m\u001b[43m,\u001b[49m\u001b[43m \u001b[49m\u001b[43mQ_\u001b[49m\u001b[43m,\u001b[49m\u001b[43m \u001b[49m\u001b[43mV_\u001b[49m\u001b[43m)\u001b[49m[\u001b[38;5;241m0\u001b[39m]\n",
      "Cell \u001b[0;32mIn[14], line 16\u001b[0m, in \u001b[0;36mget_exact_eigenpair\u001b[0;34m(solver, selected_index, Q, V)\u001b[0m\n\u001b[1;32m     12\u001b[0m v_2 \u001b[38;5;241m=\u001b[39m (\u001b[38;5;28;01mlambda\u001b[39;00m x: \u001b[38;5;241m1\u001b[39m\u001b[38;5;241m/\u001b[39m(\u001b[38;5;241m-\u001b[39m\u001b[38;5;241m1\u001b[39mj\u001b[38;5;241m*\u001b[39mw\u001b[38;5;241m+\u001b[39msigma_x_function_cond(x)\u001b[38;5;241m*\u001b[39mrho_media_1)\u001b[38;5;241m*\u001b[39m \u001b[38;5;241m-\u001b[39mnp\u001b[38;5;241m.\u001b[39msin(\u001b[38;5;241m-\u001b[39mw \u001b[38;5;241m*\u001b[39m l_inner \u001b[38;5;241m/\u001b[39m vel_media_1) \u001b[38;5;241m*\u001b[39m(\u001b[38;5;241m1\u001b[39mj \u001b[38;5;241m*\u001b[39m w \u001b[38;5;241m/\u001b[39m vel_media_2)\n\u001b[1;32m     13\u001b[0m     \u001b[38;5;241m*\u001b[39m np\u001b[38;5;241m.\u001b[39mexp(\u001b[38;5;241m1\u001b[39mj \u001b[38;5;241m*\u001b[39m w \u001b[38;5;241m/\u001b[39m vel_media_2 \u001b[38;5;241m*\u001b[39m (x_hat(x,w) \u001b[38;5;241m-\u001b[39m l_inner))\u001b[38;5;241m*\u001b[39m gamma_x(x, w)[\u001b[38;5;241m0\u001b[39m])\n\u001b[1;32m     14\u001b[0m v \u001b[38;5;241m=\u001b[39m \u001b[38;5;28;01mlambda\u001b[39;00m x: np\u001b[38;5;241m.\u001b[39mwhere(x[\u001b[38;5;241m0\u001b[39m] \u001b[38;5;241m>\u001b[39m\u001b[38;5;241m=\u001b[39m l_inner, v_2(x), v_1(x))\n\u001b[0;32m---> 16\u001b[0m Q \u001b[38;5;241m=\u001b[39m functionspace(mesh, \u001b[43mFE\u001b[49m[\u001b[38;5;124m\"\u001b[39m\u001b[38;5;124mp\u001b[39m\u001b[38;5;124m\"\u001b[39m])\n\u001b[1;32m     17\u001b[0m V \u001b[38;5;241m=\u001b[39m functionspace(mesh, FE[\u001b[38;5;124m\"\u001b[39m\u001b[38;5;124mv\u001b[39m\u001b[38;5;124m\"\u001b[39m])\n\u001b[1;32m     19\u001b[0m p_ex \u001b[38;5;241m=\u001b[39m Function(Q, name\u001b[38;5;241m=\u001b[39m\u001b[38;5;124m\"\u001b[39m\u001b[38;5;124mp_ex\u001b[39m\u001b[38;5;124m\"\u001b[39m)\n",
      "\u001b[0;31mNameError\u001b[0m: name 'FE' is not defined"
     ]
    }
   ],
   "source": [
    "exact_omega = [None] * 5 \n",
    "for j in np.arange(0, 5,1):\n",
    "    exact_omega[j] = get_exact_eigenpair(solver_piecewise, j, Q_, V_)[0]"
   ]
  },
  {
   "cell_type": "code",
   "execution_count": null,
   "metadata": {},
   "outputs": [
    {
     "ename": "NameError",
     "evalue": "name 'exact' is not defined",
     "output_type": "error",
     "traceback": [
      "\u001b[0;31m---------------------------------------------------------------------------\u001b[0m",
      "\u001b[0;31mNameError\u001b[0m                                 Traceback (most recent call last)",
      "Cell \u001b[0;32mIn[9], line 1\u001b[0m\n\u001b[0;32m----> 1\u001b[0m rel_error_eig_0_P1_P0\u001b[38;5;241m=\u001b[39m\u001b[38;5;28mabs\u001b[39m((groups_P1_P0[\u001b[38;5;241m0\u001b[39m] \u001b[38;5;241m-\u001b[39m \u001b[43mexact\u001b[49m[\u001b[38;5;241m1\u001b[39m])) \u001b[38;5;241m/\u001b[39m np\u001b[38;5;241m.\u001b[39mabs(exact[\u001b[38;5;241m1\u001b[39m]) \n\u001b[1;32m      2\u001b[0m rel_error_eig_1_P1_P0\u001b[38;5;241m=\u001b[39m\u001b[38;5;28mabs\u001b[39m((groups_P1_P0[\u001b[38;5;241m1\u001b[39m] \u001b[38;5;241m-\u001b[39m exact[\u001b[38;5;241m2\u001b[39m])) \u001b[38;5;241m/\u001b[39m np\u001b[38;5;241m.\u001b[39mabs(exact[\u001b[38;5;241m2\u001b[39m]) \n\u001b[1;32m      3\u001b[0m rel_error_eig_2_P1_P0\u001b[38;5;241m=\u001b[39m\u001b[38;5;28mabs\u001b[39m((groups_P1_P0[\u001b[38;5;241m2\u001b[39m] \u001b[38;5;241m-\u001b[39m exact[\u001b[38;5;241m3\u001b[39m])) \u001b[38;5;241m/\u001b[39m np\u001b[38;5;241m.\u001b[39mabs(exact[\u001b[38;5;241m3\u001b[39m]) \n",
      "\u001b[0;31mNameError\u001b[0m: name 'exact' is not defined"
     ]
    }
   ],
   "source": [
    "rel_error_eig_0_piecewise=abs((groups_piecewise[0] - exact_omega[1])) / np.abs(exact_omega[1]) \n",
    "rel_error_eig_1_piecewise=abs((groups_piecewise[1] - exact_omega[2])) / np.abs(exact_omega[2]) \n",
    "\n",
    "rel_error_eig_0_quadratic=abs((groups_quadratic[0] - exact_omega[1])) / np.abs(exact_omega[1]) \n",
    "rel_error_eig_1_quadratic=abs((groups_quadratic[1] - exact_omega[2])) / np.abs(exact_omega[2]) \n",
    "\n",
    "rel_error_eig_0_singular=abs((groups_singular[0] - exact_omega[1])) / np.abs(exact_omega[1]) \n",
    "rel_error_eig_1_singular=abs((groups_singular[1] - exact_omega[2])) / np.abs(exact_omega[2]) "
   ]
  },
  {
   "cell_type": "code",
   "execution_count": null,
   "metadata": {},
   "outputs": [],
   "source": [
    "plt.plot(sigma_vector,error_vector)\n",
    "plt.plot(sigma_vector[np.argmin(error_vector)], error_vector[np.argmin(error_vector)], '*', label='$\\sigma_0='+str(sigma_vector[np.argmin(error_vector)])+'$')\n",
    "plt.xlabel('$\\sigma_0$')\n",
    "plt.ylabel('$\\epsilon_r$')\n",
    "_=plt.legend()"
   ]
  }
 ],
 "metadata": {
  "kernelspec": {
   "display_name": "cleaned-fenicsx",
   "language": "python",
   "name": "python3"
  },
  "language_info": {
   "codemirror_mode": {
    "name": "ipython",
    "version": 3
   },
   "file_extension": ".py",
   "mimetype": "text/x-python",
   "name": "python",
   "nbconvert_exporter": "python",
   "pygments_lexer": "ipython3",
   "version": "3.10.16"
  },
  "orig_nbformat": 4
 },
 "nbformat": 4,
 "nbformat_minor": 2
}

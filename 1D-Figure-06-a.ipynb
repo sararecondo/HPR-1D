{
 "cells": [
  {
   "cell_type": "markdown",
   "metadata": {},
   "source": [
    "Bilayer unit domain. Sigma optimisation"
   ]
  },
  {
   "cell_type": "code",
   "execution_count": 1,
   "metadata": {},
   "outputs": [
    {
     "name": "stderr",
     "output_type": "stream",
     "text": [
      "/home/srecondo/miniconda3/envs/cleaned-fenicsx/lib/python3.10/site-packages/numpy/_core/getlimits.py:551: UserWarning: Signature b'\\x00\\xd0\\xcc\\xcc\\xcc\\xcc\\xcc\\xcc\\xfb\\xbf\\x00\\x00\\x00\\x00\\x00\\x00' for <class 'numpy.longdouble'> does not match any known type: falling back to type probe function.\n",
      "This warnings indicates broken support for the dtype!\n",
      "  machar = _get_machar(dtype)\n"
     ]
    }
   ],
   "source": [
    "# Importing libraries\n",
    "import matplotlib.pyplot as plt\n",
    "from matplotlib import ticker\n",
    "import numpy as np\n",
    "from mpi4py import MPI\n",
    "from ufl import (\n",
    "    inner,\n",
    "    grad,\n",
    "    conj,\n",
    "    TrialFunction,\n",
    "    TestFunction,\n",
    "    as_matrix,\n",
    "    as_vector,\n",
    "    dot,\n",
    "    Or,\n",
    "    Measure,\n",
    "    conditional,\n",
    "    SpatialCoordinate,\n",
    ")\n",
    "from dolfinx.mesh import locate_entities_boundary, create_interval, locate_entities, create_submesh\n",
    "from dolfinx.fem import FunctionSpace, Function, functionspace, Function, dirichletbc, locate_dofs_topological, petsc, form, assemble_matrix\n",
    "import basix\n",
    "from petsc4py.PETSc import ScalarType\n",
    "from slepc4py.SLEPc import EPS  \n",
    "colors_list = [\"blue\", \"green\", \"red\", \"magenta\", \"black\", \"purple\", \"orange\", \"brown\", \"pink\"]\n"
   ]
  },
  {
   "cell_type": "markdown",
   "metadata": {},
   "source": [
    "Domain, PML, refinement and physical configurations"
   ]
  },
  {
   "cell_type": "code",
   "execution_count": 2,
   "metadata": {},
   "outputs": [],
   "source": [
    "# Define element size for the mesh refinement\n",
    "h_i = [0.125/4,]\n",
    "    # 0.0625,\n",
    "    # 0.0625 / 2,\n",
    "    # 0.0625 / 4,\n",
    "    # 0.0625 / 8]\n",
    "\n",
    "# Domain configuration\n",
    "Lx = 1. # fluid domain length (without PML)\n",
    "l_inner=Lx/2\n",
    "\n",
    "# Physical configuration\n",
    "rho_media_1 = 1. # kg/m^3 \n",
    "vel_media_1 = 2.   # m/s\n",
    "rho_media_2 = 1. # kg/m^3 \n",
    "vel_media_2 = 1.   # m/s\n",
    "\n",
    "\n",
    "# Define the density and velocity functions  \n",
    "def rho_function(x):    \n",
    "    return np.where(x[0] > l_inner, rho_media_2,rho_media_1)\n",
    "\n",
    "def vel_function(x):    \n",
    "    return np.where(x[0] > l_inner, vel_media_2,vel_media_1)\n",
    "\n",
    "# PML configuration\n",
    "pml_thickness = Lx/4\n",
    "# sigma_0 = 1 #0.484375\n",
    "\n",
    "# Solver configuration\n",
    "\n",
    "requested_eigenvalues_number = 50 # Number of eigenvalues to compute"
   ]
  },
  {
   "cell_type": "markdown",
   "metadata": {},
   "source": [
    "Solver configuration and computing"
   ]
  },
  {
   "cell_type": "code",
   "execution_count": 3,
   "metadata": {},
   "outputs": [],
   "source": [
    "def get_configured_problem(mesh, degrees, sigma_x):\n",
    "    # Initialize dictionaries\n",
    "    dof = {}\n",
    "    solver_dict={}\n",
    "    V_dict={}\n",
    "    Q_dict={}\n",
    "\n",
    "    # Define finite element spaces\n",
    "    p_fe_type = basix.ufl.element(family=\"Lagrange\", cell=mesh.basix_cell(), degree=degrees[0])\n",
    "    v_fe_type = basix.ufl.element(family=\"DG\", cell=mesh.basix_cell(), degree=degrees[1], shape=(mesh.geometry.dim,))\n",
    "    FE = {\"p\": p_fe_type, \"v\": v_fe_type}\n",
    "\n",
    "    # Create a submesh of PML associated cells\n",
    "    tdim = mesh.topology.dim\n",
    "\n",
    "    # Identify the fluid cells\n",
    "    # fluid_cells = locate_entities(mesh, tdim, lambda x: x[0] <= Lx)\n",
    "\n",
    "    # Create function spaces for mesh and submesh\n",
    "    Q = functionspace(mesh,FE[\"p\"])\n",
    "    V = functionspace(mesh, FE[\"v\"])\n",
    "\n",
    "    # Dictionaries to store the number of dofs\n",
    "    dof[\"p\"] = Q.dofmap.index_map.size_global\n",
    "    dof[\"v\"] = V.dofmap.index_map.size_global\n",
    "\n",
    "    # Boundary conditions application (for pressure)\n",
    "    bc = []\n",
    "    facets = locate_entities_boundary(mesh, 0, lambda x: np.isclose(x[0], 0.0))\n",
    "    o_boundary_dofs = locate_dofs_topological(Q, 0, facets)  # the dimension is related to mesh entity where dofs are located\n",
    "\n",
    "    # Setting to zero located dofs related to boundaries\n",
    "    u_d = Function(Q)\n",
    "    u_d.x.array[:] = 0.0  # Asign Dirichlet condition value\n",
    "    bc.append(dirichletbc(u_d, o_boundary_dofs)) \n",
    "    \n",
    "    facets = locate_entities_boundary(mesh, 0, lambda x: np.isclose(x[0], Lx+pml_thickness))\n",
    "    o_boundary_dofs = locate_dofs_topological(Q, 0, facets)  # the dimension is related to mesh entity where dofs are located\n",
    "\n",
    "    # Setting to zero located dofs related to boundaries\n",
    "    u_d = Function(Q)\n",
    "    u_d.x.array[:] = 0.0  # Asign Dirichlet condition value\n",
    "    bc.append(dirichletbc(u_d, o_boundary_dofs)) \n",
    "\n",
    "    # Define differential operators\n",
    "    dx = Measure(\"dx\", domain=mesh)\n",
    "\n",
    "    # Interpolates the density and velocity functions\n",
    "    W = functionspace(mesh, (\"DG\", 2))\n",
    "    rho = Function(W)\n",
    "    rho.interpolate(rho_function)\n",
    "    c = Function(W)\n",
    "    c.interpolate(vel_function)\n",
    "\n",
    "    # Spatial Coordinate is updated for the actual mesh\n",
    "    x = SpatialCoordinate(mesh)\n",
    "\n",
    "    # Variation formulation definition\n",
    "    p = TrialFunction(Q) \n",
    "    v = TrialFunction(V)\n",
    "    q = TestFunction(Q)\n",
    "    w = TestFunction(V)\n",
    "\n",
    "    # Define the variational forms\n",
    "    a = form(\n",
    "        [\n",
    "            [sigma_x(x) / (rho * c**2) * p * conj(q) * dx, -1 * inner(v, grad(q)) * dx],\n",
    "            [inner(grad(p), w) * dx, sigma_x(x) * rho * inner(v, w) * dx],\n",
    "        ]\n",
    "    )\n",
    "    b = form(\n",
    "        [\n",
    "            [1.0 / (rho * c**2) * p * conj(q) * dx, None],\n",
    "            [None, rho * inner(v, w) * dx],\n",
    "        ]  \n",
    "    )\n",
    "    # Assemble matrices\n",
    "    A = petsc.assemble_matrix_block(a, bcs=bc)\n",
    "    A.assemble()\n",
    "    B = petsc.assemble_matrix_block(b, bcs=bc)\n",
    "    B.assemble()\n",
    "\n",
    "    # SLEPc solver configuration for linear eigenvalue problem (A x =\\lambda x B)\n",
    "    solver = EPS().create()\n",
    "    solver.setOperators(-A, B)\n",
    "    solver.setType(\"arnoldi\")\n",
    "    solver.setWhichEigenpairs(9)  # TARGET_IMAGINARY = 9, TARGET_MAGNITUDE = 7, TARGET_REAL = 8\n",
    "    solver.setDimensions(\n",
    "        requested_eigenvalues_number,\n",
    "        4 * requested_eigenvalues_number,\n",
    "        4 * requested_eigenvalues_number,\n",
    "    )\n",
    "    solver.setTolerances(1e-7, 100)\n",
    "    st = solver.getST()\n",
    "    st.setType(\"sinvert\")  # Applying spectral transformation \"shift and invert\" \n",
    "    solver.setTarget(-2.5j)  \n",
    "    solver.solve()\n",
    "    n_eigs_converged_quadratic = solver.getConverged()\n",
    "\n",
    "    return solver, mesh, Q, V, dof"
   ]
  },
  {
   "cell_type": "markdown",
   "metadata": {},
   "source": [
    "Approx eigenvalues calculation"
   ]
  },
  {
   "cell_type": "code",
   "execution_count": 4,
   "metadata": {},
   "outputs": [],
   "source": [
    "def get_approx_eigenpair(solver, selected_index, Q, V, dof):\n",
    "    # Gets p, v eigenvectors\n",
    "    p_h = Function(Q, name=\"p\")\n",
    "    v_h = Function(V, name=\"v\")\n",
    "    dof[\"p\"] = Q.dofmap.index_map.size_global\n",
    "    dof[\"v\"] = V.dofmap.index_map.size_global\n",
    "    [vrA, viA] = solver.getOperators()[0].getVecs()  # type: ignore\n",
    "\n",
    "    # Filtrar eigenvalores con parte real mayor que 1e-12\n",
    "    eigenvalues = []\n",
    "    for i in range(solver.getConverged()):\n",
    "        omega_value = solver.getEigenpair(i, vrA) * (1j)  # type: ignore\n",
    "        if omega_value.real > 1e-12:\n",
    "            eigenvalues.append((omega_value, vrA.copy()))\n",
    "\n",
    "    # Seleccionar el n-ésimo eigenvalor filtrado\n",
    "    omega_value, vrA = eigenvalues[selected_index]\n",
    "\n",
    "    # FEM approximation for the eigenfunction\n",
    "    p_h.x.petsc_vec.array[:] = vrA[0 : dof[\"p\"]]\n",
    "    p_h.x.petsc_vec.array[:] = p_h.x.petsc_vec.array[:] / p_h.eval([Lx, 0.0, 0.0], 1)  # normalise\n",
    "    v_h.x.petsc_vec.array[:] = vrA[dof[\"p\"] :]  \n",
    "    v_h.x.petsc_vec.array[:] = v_h.x.petsc_vec.array[:] / v_h.eval([Lx, 0.0, 0.0], 1)  # normalise\n",
    "\n",
    "    return [omega_value, p_h, v_h]  # Return eigenfunction and eigenvalue"
   ]
  },
  {
   "cell_type": "code",
   "execution_count": 5,
   "metadata": {},
   "outputs": [],
   "source": [
    "def get_exact_eigenvalue(n):\n",
    "    # Exact eigenvalues for the problem\n",
    "    exact_physical_eigs_function= lambda n: vel_media_1 / l_inner * np.arctan(-1j * (vel_media_2 * rho_media_2) / (vel_media_1 * rho_media_1))+ n * np.pi * vel_media_1 / l_inner\n",
    "    return exact_physical_eigs_function(n)"
   ]
  },
  {
   "cell_type": "code",
   "execution_count": 6,
   "metadata": {},
   "outputs": [],
   "source": [
    "def get_exact_eigenpair(solver, selected_index, Q, V, x_hat, sigma_x, gamma_x):\n",
    "    exact_physical_eigs_function= lambda n: vel_media_1 / l_inner * np.arctan(-1j * (vel_media_2 * rho_media_2) / (vel_media_1 * rho_media_1))+ n * np.pi * vel_media_1 / l_inner\n",
    "    w=exact_physical_eigs_function(selected_index)\n",
    "\n",
    "    p_1 = lambda x: np.sin(w * x[0] / vel_media_1)\n",
    "    p_2 = lambda x: -np.sin(-w * l_inner / vel_media_1) * np.exp(1j * w / vel_media_2 * (x_hat(x,w) - l_inner))\n",
    "    p = lambda x: np.where(x[0] == Lx + pml_thickness, 0, np.where(x[0] >= l_inner, p_2(x), p_1(x)))\n",
    "\n",
    "    # sigma_x = lambda x: np.where(x[0] >= l_inner, sigma_0, 0)\n",
    "    sigma_x_function_cond= lambda x: np.where(x[0]<=Lx, x[0]*0., np.where(x[0] == Lx + pml_thickness, x[0]*0.0+1e10, sigma_x(x)))\n",
    "    v_1=lambda x: 1/(-1j*w)*(w / vel_media_1) * np.cos(w * x[0] / vel_media_1)\n",
    "    v_2 = (lambda x: 1/(-1j*w+sigma_x_function_cond(x)*rho_media_1)* -np.sin(-w * l_inner / vel_media_1) *(1j * w / vel_media_2)\n",
    "        * np.exp(1j * w / vel_media_2 * (x_hat(x,w) - l_inner))* gamma_x(x, w)[0])\n",
    "    v = lambda x: np.where(x[0] >= l_inner, v_2(x), v_1(x))\n",
    "\n",
    "    p_ex = Function(Q, name=\"p_ex\")\n",
    "    p_ex.interpolate(p)\n",
    "    p_ex.x.petsc_vec.array[:] = p_ex.x.petsc_vec.array[:] / p_ex.eval(np.array([Lx, 0.0, 0.0]), 1)\n",
    "\n",
    "    v_ex = Function(V, name=\"v_ex\")\n",
    "    v_ex.interpolate(v)\n",
    "    v_ex.x.petsc_vec.array[:] = v_ex.x.petsc_vec.array[:] / v_ex.eval(np.array([Lx, 0.0, 0.0]), 1)\n",
    "\n",
    "    return [w, p_ex, v_ex]"
   ]
  },
  {
   "cell_type": "markdown",
   "metadata": {},
   "source": [
    "quadratic"
   ]
  },
  {
   "cell_type": "code",
   "execution_count": 7,
   "metadata": {},
   "outputs": [],
   "source": [
    "degree=[2,1]"
   ]
  },
  {
   "cell_type": "code",
   "execution_count": 8,
   "metadata": {},
   "outputs": [],
   "source": [
    "sigma_sweep_piecewise=np.linspace(12.5, 30, 11)\n",
    "sigma_sweep_quadratic=np.linspace(40, 100, 11)\n",
    "sigma_sweep_singular=np.linspace(0.5, 4., 11)"
   ]
  },
  {
   "cell_type": "code",
   "execution_count": 9,
   "metadata": {},
   "outputs": [],
   "source": [
    "def get_closer_approx_eig(exact, solver, Q, V, dof, number_of_values=0):\n",
    "    error = []\n",
    "    for j in np.arange(number_of_values):\n",
    "        error.append(np.abs(exact - get_approx_eigenpair(solver, j, Q, V, dof)[0]) / np.abs(exact))\n",
    "\n",
    "    index_closest_eig = np.argmin(error)\n",
    "    return get_approx_eigenpair(solver, index_closest_eig, Q, V, dof)[0], index_closest_eig"
   ]
  },
  {
   "cell_type": "code",
   "execution_count": 10,
   "metadata": {},
   "outputs": [],
   "source": [
    "exact_omega = [None] * 5 \n",
    "for j in np.arange(0, 5,1):\n",
    "    exact_omega[j] = get_exact_eigenvalue(j)"
   ]
  },
  {
   "cell_type": "code",
   "execution_count": 11,
   "metadata": {},
   "outputs": [],
   "source": [
    "# Initialize lists to store the approximated eigenpairs\n",
    "approx_piecewise = [[0 for _ in range(5)] for _ in range(len(sigma_sweep_piecewise))]\n",
    "approx_quadratic = [[0 for _ in range(5)] for _ in range(len(sigma_sweep_quadratic))]\n",
    "approx_singular = [[0 for _ in range(5)] for _ in range(len(sigma_sweep_singular))]\n",
    "\n",
    "for i,sigma_0_piecewise, sigma_0_quadratic, sigma_0_singular in zip(range(len(sigma_sweep_piecewise)),sigma_sweep_piecewise, sigma_sweep_quadratic, sigma_sweep_singular):\n",
    "    # Create mesh depending on h\n",
    "    mesh = create_interval(MPI.COMM_WORLD, int((Lx + pml_thickness )/ h_i[0]), [0, Lx + pml_thickness])\n",
    "\n",
    "    # Define quadratic sigma function\n",
    "    sigma_x_piecewise=lambda x: conditional(x[0] > l_inner, sigma_0_piecewise, 0.0)\n",
    "    sigma_x_quadratic=lambda x: conditional(x[0] > Lx, sigma_0_quadratic*(x[0]-Lx)**2, 0.0)\n",
    "    sigma_x_singular=lambda x: conditional(x[0] > Lx, sigma_0_singular/(Lx+pml_thickness-x[0]), 0.0)\n",
    "\n",
    "    # Define solver for quadratic PML\n",
    "    [solver_piecewise, mesh, Q_, V_, dof_]=get_configured_problem(mesh, degree, sigma_x_piecewise)\n",
    "    [solver_quadratic, mesh, Q_, V_, dof_]=get_configured_problem(mesh, degree, sigma_x_quadratic)\n",
    "    [solver_singular, mesh, Q_, V_, dof_]=get_configured_problem(mesh, degree, sigma_x_singular)\n",
    "\n",
    "    for j in np.arange(0, 5,1):\n",
    "        # Get the approximated eigenpair\n",
    "        approx_piecewise[i][j] = get_closer_approx_eig(exact_omega[j], solver_piecewise, Q_, V_, dof_, 15)[0]\n",
    "        approx_quadratic[i][j] = get_closer_approx_eig(exact_omega[j], solver_quadratic, Q_, V_, dof_, 15)[0]\n",
    "        approx_singular[i][j] = get_closer_approx_eig(exact_omega[j], solver_singular, Q_, V_, dof_, 15)[0]\n",
    "\n",
    "# Ordenar cada fila de la lista\n",
    "for i in range(len(approx_piecewise)):\n",
    "    approx_piecewise[i] = sorted(approx_piecewise[i], key=lambda x: x.real)\n",
    "    approx_quadratic[i] = sorted(approx_quadratic[i], key=lambda x: x.real)\n",
    "    approx_singular[i] = sorted(approx_singular[i], key=lambda x: x.real)\n"
   ]
  },
  {
   "cell_type": "code",
   "execution_count": 12,
   "metadata": {},
   "outputs": [
    {
     "data": {
      "text/plain": [
       "[np.complex128(-2.197224577336219j),\n",
       " np.complex128(12.566370614359172-2.197224577336219j),\n",
       " np.complex128(25.132741228718345-2.197224577336219j),\n",
       " np.complex128(37.69911184307752-2.197224577336219j),\n",
       " np.complex128(50.26548245743669-2.197224577336219j)]"
      ]
     },
     "execution_count": 12,
     "metadata": {},
     "output_type": "execute_result"
    }
   ],
   "source": [
    "exact_omega"
   ]
  },
  {
   "cell_type": "code",
   "execution_count": 13,
   "metadata": {},
   "outputs": [
    {
     "data": {
      "text/plain": [
       "[[(2.1131703961751445-11.760534497630212j),\n",
       "  (12.395094950117057-2.302297199460229j),\n",
       "  (24.764768827951887-2.263768191835992j),\n",
       "  (37.100114368604174-2.225940672623047j),\n",
       "  (48.80817748289432-11.821088676087365j)],\n",
       " [(2.1105876054282775-13.511931783935387j),\n",
       "  (12.391066862263363-2.327697630151785j),\n",
       "  (24.759179220683794-2.29370553671529j),\n",
       "  (37.09607323696887-2.2606153288627717j),\n",
       "  (48.80896958143407-13.573541567840218j)],\n",
       " [(12.38751565340739-2.3535001128079007j),\n",
       "  (12.38751565340739-2.3535001128079007j),\n",
       "  (24.75426100908435-2.3236327384563236j),\n",
       "  (37.09257953686493-2.2949070309781527j),\n",
       "  (37.09257953686493-2.2949070309781527j)],\n",
       " [(12.384395382170046-2.3796572051272715j),\n",
       "  (12.384395382170046-2.3796572051272715j),\n",
       "  (24.749956736600264-2.3535468007559928j),\n",
       "  (37.08959360092304-2.3288493894432527j),\n",
       "  (37.08959360092304-2.3288493894432527j)],\n",
       " [(12.381665736563615-2.4061246375066485j),\n",
       "  (12.381665736563615-2.4061246375066485j),\n",
       "  (24.74621542202679-2.383443325937419j),\n",
       "  (37.08708076832261-2.362472294167086j),\n",
       "  (37.08708076832261-2.362472294167086j)],\n",
       " [(12.37929103700383-2.4328617302166764j),\n",
       "  (12.37929103700383-2.4328617302166764j),\n",
       "  (24.742991399249597-2.413317207515472j),\n",
       "  (37.085010307101754-2.395802209161277j),\n",
       "  (37.085010307101754-2.395802209161277j)],\n",
       " [(12.377239651115577-2.459831089478436j),\n",
       "  (12.377239651115577-2.459831089478436j),\n",
       "  (24.740243774653024-2.443162789059537j),\n",
       "  (37.08335504946748-2.4288623633096735j),\n",
       "  (37.08335504946748-2.4288623633096735j)],\n",
       " [(12.375483509148582-2.4869982779804665j),\n",
       "  (12.375483509148582-2.4869982779804665j),\n",
       "  (24.737935967571197-2.4729739545411595j),\n",
       "  (37.08209107666636-2.4616729297595183j),\n",
       "  (37.08209107666636-2.4616729297595183j)],\n",
       " [(12.373997684710181-2.514331511347516j),\n",
       "  (12.373997684710181-2.514331511347516j),\n",
       "  (24.736035289928378-2.502744192995328j),\n",
       "  (37.081197408020905-2.4942512032591786j),\n",
       "  (37.081197408020905-2.4942512032591786j)],\n",
       " [(12.37276002917026-2.5418013826778174j),\n",
       "  (12.37276002917026-2.5418013826778174j),\n",
       "  (24.734512559702367-2.532466646346455j),\n",
       "  (37.0806556964732-2.5266117770661753j),\n",
       "  (37.0806556964732-2.5266117770661753j)],\n",
       " [(12.371750851542389-2.5693806134643413j),\n",
       "  (12.371750851542389-2.5693806134643413j),\n",
       "  (24.733341745938475-2.562134145397311j),\n",
       "  (37.08044993552659-2.558766719676975j),\n",
       "  (37.08044993552659-2.558766719676975j)]]"
      ]
     },
     "execution_count": 13,
     "metadata": {},
     "output_type": "execute_result"
    }
   ],
   "source": [
    "approx_piecewise"
   ]
  },
  {
   "cell_type": "code",
   "execution_count": 14,
   "metadata": {},
   "outputs": [],
   "source": [
    "# sigma_quadratic_absorption=(Lx+pml_thickness)**3/3-Lx*(Lx+pml_thickness)**2+Lx**2*(Lx+pml_thickness)-sigma_0*Lx**3/3\n",
    "# sigma_piecewise_absorption=sigma_0*pml_thickness\n",
    "# sigma_singular_absorption=1e40"
   ]
  },
  {
   "cell_type": "code",
   "execution_count": 15,
   "metadata": {},
   "outputs": [],
   "source": [
    "def group_by_real_part(eigenvalues, tolerance=1):\n",
    "    groups = []\n",
    "    for row in eigenvalues:\n",
    "        for eig in row:\n",
    "            added = False\n",
    "            for group in groups:\n",
    "                if abs(group[0].real - eig.real) < tolerance:\n",
    "                    group.append(eig)\n",
    "                    added = True\n",
    "                    break\n",
    "            if not added:\n",
    "                groups.append([eig])\n",
    "    return groups\n",
    "\n",
    "groups_piecewise = group_by_real_part(approx_piecewise)\n",
    "groups_quadratic = group_by_real_part(approx_quadratic)\n",
    "groups_singular = group_by_real_part(approx_singular)"
   ]
  },
  {
   "cell_type": "code",
   "execution_count": 16,
   "metadata": {},
   "outputs": [],
   "source": [
    "rel_error_eig_0_piecewise=abs((groups_piecewise[0] - exact_omega[1])) / np.abs(exact_omega[1]) \n",
    "rel_error_eig_1_piecewise=abs((groups_piecewise[1] - exact_omega[2])) / np.abs(exact_omega[2]) \n",
    "\n",
    "rel_error_eig_0_quadratic=abs((groups_quadratic[0] - exact_omega[1])) / np.abs(exact_omega[1]) \n",
    "rel_error_eig_1_quadratic=abs((groups_quadratic[1] - exact_omega[2])) / np.abs(exact_omega[2]) \n",
    "\n",
    "rel_error_eig_0_singular=abs((groups_singular[0] - exact_omega[1])) / np.abs(exact_omega[1]) \n",
    "rel_error_eig_1_singular=abs((groups_singular[1] - exact_omega[2])) / np.abs(exact_omega[2]) "
   ]
  },
  {
   "cell_type": "code",
   "execution_count": 18,
   "metadata": {},
   "outputs": [],
   "source": [
    "# plt.plot(sigma_sweep_piecewise,rel_error_eig_0_piecewise)\n",
    "# plt.plot(sigma_sweep_piecewise[np.argmin(rel_error_eig_0_piecewise)], rel_error_eig_0_piecewise[np.argmin(rel_error_eig_0_piecewise)], '*', label='$\\sigma_0='+str(sigma_sweep_piecewise[np.argmin(rel_error_eig_0_piecewise)])+'$')\n",
    "# plt.xlabel('$\\sigma_0$')\n",
    "# plt.ylabel('$\\epsilon_r$')\n",
    "# plt.grid(True)\n",
    "# _=plt.legend()"
   ]
  },
  {
   "cell_type": "code",
   "execution_count": 19,
   "metadata": {},
   "outputs": [
    {
     "data": {
      "image/png": "[encoded data removed]",
      "text/plain": [
       "<Figure size 640x480 with 1 Axes>"
      ]
     },
     "metadata": {},
     "output_type": "display_data"
    }
   ],
   "source": [
    "plt.plot(sigma_sweep_quadratic,rel_error_eig_0_quadratic)\n",
    "plt.plot(sigma_sweep_quadratic[np.argmin(rel_error_eig_0_quadratic)], rel_error_eig_0_quadratic[np.argmin(rel_error_eig_0_quadratic)], '*', label='$\\sigma_0='+str(sigma_sweep_quadratic[np.argmin(rel_error_eig_0_quadratic)])+'$')\n",
    "plt.xlabel('$\\sigma_0$')\n",
    "plt.ylabel('$\\epsilon_r$')\n",
    "plt.grid(True)\n",
    "_=plt.legend()"
   ]
  },
  {
   "cell_type": "code",
   "execution_count": null,
   "metadata": {},
   "outputs": [
    {
     "ename": "ValueError",
     "evalue": "x and y must have same first dimension, but have shapes (11,) and (2,)",
     "output_type": "error",
     "traceback": [
      "\u001b[0;31m---------------------------------------------------------------------------\u001b[0m",
      "\u001b[0;31mValueError\u001b[0m                                Traceback (most recent call last)",
      "Cell \u001b[0;32mIn[157], line 1\u001b[0m\n\u001b[0;32m----> 1\u001b[0m \u001b[43mplt\u001b[49m\u001b[38;5;241;43m.\u001b[39;49m\u001b[43mplot\u001b[49m\u001b[43m(\u001b[49m\u001b[43msigma_sweep_singular\u001b[49m\u001b[43m,\u001b[49m\u001b[43mrel_error_eig_0_singular\u001b[49m\u001b[43m)\u001b[49m\n\u001b[1;32m      2\u001b[0m plt\u001b[38;5;241m.\u001b[39mplot(sigma_sweep_singular[np\u001b[38;5;241m.\u001b[39margmin(rel_error_eig_0_singular)], rel_error_eig_0_singular[np\u001b[38;5;241m.\u001b[39margmin(rel_error_eig_0_singular)], \u001b[38;5;124m'\u001b[39m\u001b[38;5;124m*\u001b[39m\u001b[38;5;124m'\u001b[39m, label\u001b[38;5;241m=\u001b[39m\u001b[38;5;124m'\u001b[39m\u001b[38;5;124m$\u001b[39m\u001b[38;5;124m\\\u001b[39m\u001b[38;5;124msigma_0=\u001b[39m\u001b[38;5;124m'\u001b[39m\u001b[38;5;241m+\u001b[39m\u001b[38;5;28mstr\u001b[39m(sigma_sweep_singular[np\u001b[38;5;241m.\u001b[39margmin(rel_error_eig_0_singular)])\u001b[38;5;241m+\u001b[39m\u001b[38;5;124m'\u001b[39m\u001b[38;5;124m$\u001b[39m\u001b[38;5;124m'\u001b[39m)\n\u001b[1;32m      3\u001b[0m plt\u001b[38;5;241m.\u001b[39mxlabel(\u001b[38;5;124m'\u001b[39m\u001b[38;5;124m$\u001b[39m\u001b[38;5;124m\\\u001b[39m\u001b[38;5;124msigma_0$\u001b[39m\u001b[38;5;124m'\u001b[39m)\n",
      "File \u001b[0;32m~/miniconda3/envs/cleaned-fenicsx/lib/python3.10/site-packages/matplotlib/pyplot.py:3829\u001b[0m, in \u001b[0;36mplot\u001b[0;34m(scalex, scaley, data, *args, **kwargs)\u001b[0m\n\u001b[1;32m   3821\u001b[0m \u001b[38;5;129m@_copy_docstring_and_deprecators\u001b[39m(Axes\u001b[38;5;241m.\u001b[39mplot)\n\u001b[1;32m   3822\u001b[0m \u001b[38;5;28;01mdef\u001b[39;00m\u001b[38;5;250m \u001b[39m\u001b[38;5;21mplot\u001b[39m(\n\u001b[1;32m   3823\u001b[0m     \u001b[38;5;241m*\u001b[39margs: \u001b[38;5;28mfloat\u001b[39m \u001b[38;5;241m|\u001b[39m ArrayLike \u001b[38;5;241m|\u001b[39m \u001b[38;5;28mstr\u001b[39m,\n\u001b[0;32m   (...)\u001b[0m\n\u001b[1;32m   3827\u001b[0m     \u001b[38;5;241m*\u001b[39m\u001b[38;5;241m*\u001b[39mkwargs,\n\u001b[1;32m   3828\u001b[0m ) \u001b[38;5;241m-\u001b[39m\u001b[38;5;241m>\u001b[39m \u001b[38;5;28mlist\u001b[39m[Line2D]:\n\u001b[0;32m-> 3829\u001b[0m     \u001b[38;5;28;01mreturn\u001b[39;00m \u001b[43mgca\u001b[49m\u001b[43m(\u001b[49m\u001b[43m)\u001b[49m\u001b[38;5;241;43m.\u001b[39;49m\u001b[43mplot\u001b[49m\u001b[43m(\u001b[49m\n\u001b[1;32m   3830\u001b[0m \u001b[43m        \u001b[49m\u001b[38;5;241;43m*\u001b[39;49m\u001b[43margs\u001b[49m\u001b[43m,\u001b[49m\n\u001b[1;32m   3831\u001b[0m \u001b[43m        \u001b[49m\u001b[43mscalex\u001b[49m\u001b[38;5;241;43m=\u001b[39;49m\u001b[43mscalex\u001b[49m\u001b[43m,\u001b[49m\n\u001b[1;32m   3832\u001b[0m \u001b[43m        \u001b[49m\u001b[43mscaley\u001b[49m\u001b[38;5;241;43m=\u001b[39;49m\u001b[43mscaley\u001b[49m\u001b[43m,\u001b[49m\n\u001b[1;32m   3833\u001b[0m \u001b[43m        \u001b[49m\u001b[38;5;241;43m*\u001b[39;49m\u001b[38;5;241;43m*\u001b[39;49m\u001b[43m(\u001b[49m\u001b[43m{\u001b[49m\u001b[38;5;124;43m\"\u001b[39;49m\u001b[38;5;124;43mdata\u001b[39;49m\u001b[38;5;124;43m\"\u001b[39;49m\u001b[43m:\u001b[49m\u001b[43m \u001b[49m\u001b[43mdata\u001b[49m\u001b[43m}\u001b[49m\u001b[43m \u001b[49m\u001b[38;5;28;43;01mif\u001b[39;49;00m\u001b[43m \u001b[49m\u001b[43mdata\u001b[49m\u001b[43m \u001b[49m\u001b[38;5;129;43;01mis\u001b[39;49;00m\u001b[43m \u001b[49m\u001b[38;5;129;43;01mnot\u001b[39;49;00m\u001b[43m \u001b[49m\u001b[38;5;28;43;01mNone\u001b[39;49;00m\u001b[43m \u001b[49m\u001b[38;5;28;43;01melse\u001b[39;49;00m\u001b[43m \u001b[49m\u001b[43m{\u001b[49m\u001b[43m}\u001b[49m\u001b[43m)\u001b[49m\u001b[43m,\u001b[49m\n\u001b[1;32m   3834\u001b[0m \u001b[43m        \u001b[49m\u001b[38;5;241;43m*\u001b[39;49m\u001b[38;5;241;43m*\u001b[39;49m\u001b[43mkwargs\u001b[49m\u001b[43m,\u001b[49m\n\u001b[1;32m   3835\u001b[0m \u001b[43m    \u001b[49m\u001b[43m)\u001b[49m\n",
      "File \u001b[0;32m~/miniconda3/envs/cleaned-fenicsx/lib/python3.10/site-packages/matplotlib/axes/_axes.py:1777\u001b[0m, in \u001b[0;36mAxes.plot\u001b[0;34m(self, scalex, scaley, data, *args, **kwargs)\u001b[0m\n\u001b[1;32m   1534\u001b[0m \u001b[38;5;250m\u001b[39m\u001b[38;5;124;03m\"\"\"\u001b[39;00m\n\u001b[1;32m   1535\u001b[0m \u001b[38;5;124;03mPlot y versus x as lines and/or markers.\u001b[39;00m\n\u001b[1;32m   1536\u001b[0m \n\u001b[0;32m   (...)\u001b[0m\n\u001b[1;32m   1774\u001b[0m \u001b[38;5;124;03m(``'green'``) or hex strings (``'#008000'``).\u001b[39;00m\n\u001b[1;32m   1775\u001b[0m \u001b[38;5;124;03m\"\"\"\u001b[39;00m\n\u001b[1;32m   1776\u001b[0m kwargs \u001b[38;5;241m=\u001b[39m cbook\u001b[38;5;241m.\u001b[39mnormalize_kwargs(kwargs, mlines\u001b[38;5;241m.\u001b[39mLine2D)\n\u001b[0;32m-> 1777\u001b[0m lines \u001b[38;5;241m=\u001b[39m [\u001b[38;5;241m*\u001b[39m\u001b[38;5;28mself\u001b[39m\u001b[38;5;241m.\u001b[39m_get_lines(\u001b[38;5;28mself\u001b[39m, \u001b[38;5;241m*\u001b[39margs, data\u001b[38;5;241m=\u001b[39mdata, \u001b[38;5;241m*\u001b[39m\u001b[38;5;241m*\u001b[39mkwargs)]\n\u001b[1;32m   1778\u001b[0m \u001b[38;5;28;01mfor\u001b[39;00m line \u001b[38;5;129;01min\u001b[39;00m lines:\n\u001b[1;32m   1779\u001b[0m     \u001b[38;5;28mself\u001b[39m\u001b[38;5;241m.\u001b[39madd_line(line)\n",
      "File \u001b[0;32m~/miniconda3/envs/cleaned-fenicsx/lib/python3.10/site-packages/matplotlib/axes/_base.py:297\u001b[0m, in \u001b[0;36m_process_plot_var_args.__call__\u001b[0;34m(self, axes, data, return_kwargs, *args, **kwargs)\u001b[0m\n\u001b[1;32m    295\u001b[0m     this \u001b[38;5;241m+\u001b[39m\u001b[38;5;241m=\u001b[39m args[\u001b[38;5;241m0\u001b[39m],\n\u001b[1;32m    296\u001b[0m     args \u001b[38;5;241m=\u001b[39m args[\u001b[38;5;241m1\u001b[39m:]\n\u001b[0;32m--> 297\u001b[0m \u001b[38;5;28;01myield from\u001b[39;00m \u001b[38;5;28;43mself\u001b[39;49m\u001b[38;5;241;43m.\u001b[39;49m\u001b[43m_plot_args\u001b[49m\u001b[43m(\u001b[49m\n\u001b[1;32m    298\u001b[0m \u001b[43m    \u001b[49m\u001b[43maxes\u001b[49m\u001b[43m,\u001b[49m\u001b[43m \u001b[49m\u001b[43mthis\u001b[49m\u001b[43m,\u001b[49m\u001b[43m \u001b[49m\u001b[43mkwargs\u001b[49m\u001b[43m,\u001b[49m\u001b[43m \u001b[49m\u001b[43mambiguous_fmt_datakey\u001b[49m\u001b[38;5;241;43m=\u001b[39;49m\u001b[43mambiguous_fmt_datakey\u001b[49m\u001b[43m,\u001b[49m\n\u001b[1;32m    299\u001b[0m \u001b[43m    \u001b[49m\u001b[43mreturn_kwargs\u001b[49m\u001b[38;5;241;43m=\u001b[39;49m\u001b[43mreturn_kwargs\u001b[49m\n\u001b[1;32m    300\u001b[0m \u001b[43m\u001b[49m\u001b[43m)\u001b[49m\n",
      "File \u001b[0;32m~/miniconda3/envs/cleaned-fenicsx/lib/python3.10/site-packages/matplotlib/axes/_base.py:494\u001b[0m, in \u001b[0;36m_process_plot_var_args._plot_args\u001b[0;34m(self, axes, tup, kwargs, return_kwargs, ambiguous_fmt_datakey)\u001b[0m\n\u001b[1;32m    491\u001b[0m     axes\u001b[38;5;241m.\u001b[39myaxis\u001b[38;5;241m.\u001b[39mupdate_units(y)\n\u001b[1;32m    493\u001b[0m \u001b[38;5;28;01mif\u001b[39;00m x\u001b[38;5;241m.\u001b[39mshape[\u001b[38;5;241m0\u001b[39m] \u001b[38;5;241m!=\u001b[39m y\u001b[38;5;241m.\u001b[39mshape[\u001b[38;5;241m0\u001b[39m]:\n\u001b[0;32m--> 494\u001b[0m     \u001b[38;5;28;01mraise\u001b[39;00m \u001b[38;5;167;01mValueError\u001b[39;00m(\u001b[38;5;124mf\u001b[39m\u001b[38;5;124m\"\u001b[39m\u001b[38;5;124mx and y must have same first dimension, but \u001b[39m\u001b[38;5;124m\"\u001b[39m\n\u001b[1;32m    495\u001b[0m                      \u001b[38;5;124mf\u001b[39m\u001b[38;5;124m\"\u001b[39m\u001b[38;5;124mhave shapes \u001b[39m\u001b[38;5;132;01m{\u001b[39;00mx\u001b[38;5;241m.\u001b[39mshape\u001b[38;5;132;01m}\u001b[39;00m\u001b[38;5;124m and \u001b[39m\u001b[38;5;132;01m{\u001b[39;00my\u001b[38;5;241m.\u001b[39mshape\u001b[38;5;132;01m}\u001b[39;00m\u001b[38;5;124m\"\u001b[39m)\n\u001b[1;32m    496\u001b[0m \u001b[38;5;28;01mif\u001b[39;00m x\u001b[38;5;241m.\u001b[39mndim \u001b[38;5;241m>\u001b[39m \u001b[38;5;241m2\u001b[39m \u001b[38;5;129;01mor\u001b[39;00m y\u001b[38;5;241m.\u001b[39mndim \u001b[38;5;241m>\u001b[39m \u001b[38;5;241m2\u001b[39m:\n\u001b[1;32m    497\u001b[0m     \u001b[38;5;28;01mraise\u001b[39;00m \u001b[38;5;167;01mValueError\u001b[39;00m(\u001b[38;5;124mf\u001b[39m\u001b[38;5;124m\"\u001b[39m\u001b[38;5;124mx and y can be no greater than 2D, but have \u001b[39m\u001b[38;5;124m\"\u001b[39m\n\u001b[1;32m    498\u001b[0m                      \u001b[38;5;124mf\u001b[39m\u001b[38;5;124m\"\u001b[39m\u001b[38;5;124mshapes \u001b[39m\u001b[38;5;132;01m{\u001b[39;00mx\u001b[38;5;241m.\u001b[39mshape\u001b[38;5;132;01m}\u001b[39;00m\u001b[38;5;124m and \u001b[39m\u001b[38;5;132;01m{\u001b[39;00my\u001b[38;5;241m.\u001b[39mshape\u001b[38;5;132;01m}\u001b[39;00m\u001b[38;5;124m\"\u001b[39m)\n",
      "\u001b[0;31mValueError\u001b[0m: x and y must have same first dimension, but have shapes (11,) and (2,)"
     ]
    },
    {
     "data": {
      "image/png": "[encoded data removed]",
      "text/plain": [
       "<Figure size 640x480 with 1 Axes>"
      ]
     },
     "metadata": {},
     "output_type": "display_data"
    }
   ],
   "source": [
    "plt.plot(sigma_sweep_singular,rel_error_eig_0_singular)\n",
    "plt.plot(sigma_sweep_singular[np.argmin(rel_error_eig_0_singular)], rel_error_eig_0_singular[np.argmin(rel_error_eig_0_singular)], '*', label='$\\sigma_0='+str(sigma_sweep_singular[np.argmin(rel_error_eig_0_singular)])+'$')\n",
    "plt.xlabel('$\\sigma_0$')\n",
    "plt.ylabel('$\\epsilon_r$')\n",
    "plt.grid(True)\n",
    "_=plt.legend()"
   ]
  }
 ],
 "metadata": {
  "kernelspec": {
   "display_name": "cleaned-fenicsx",
   "language": "python",
   "name": "python3"
  },
  "language_info": {
   "codemirror_mode": {
    "name": "ipython",
    "version": 3
   },
   "file_extension": ".py",
   "mimetype": "text/x-python",
   "name": "python",
   "nbconvert_exporter": "python",
   "pygments_lexer": "ipython3",
   "version": "3.10.16"
  },
  "orig_nbformat": 4
 },
 "nbformat": 4,
 "nbformat_minor": 2
}
